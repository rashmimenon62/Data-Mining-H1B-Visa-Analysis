{
 "cells": [
  {
   "cell_type": "code",
   "execution_count": 1,
   "metadata": {},
   "outputs": [
    {
     "data": {
      "text/html": [
       "<script type=\"text/javascript\">window.PlotlyConfig = {MathJaxConfig: 'local'};</script><script type=\"text/javascript\">if (window.MathJax) {MathJax.Hub.Config({SVG: {font: \"STIX-Web\"}});}</script><script>requirejs.config({paths: { 'plotly': ['https://cdn.plot.ly/plotly-latest.min']},});if(!window._Plotly) {require(['plotly'],function(plotly) {window._Plotly=plotly;});}</script>"
      ],
      "text/vnd.plotly.v1+html": [
       "<script type=\"text/javascript\">window.PlotlyConfig = {MathJaxConfig: 'local'};</script><script type=\"text/javascript\">if (window.MathJax) {MathJax.Hub.Config({SVG: {font: \"STIX-Web\"}});}</script><script>requirejs.config({paths: { 'plotly': ['https://cdn.plot.ly/plotly-latest.min']},});if(!window._Plotly) {require(['plotly'],function(plotly) {window._Plotly=plotly;});}</script>"
      ]
     },
     "metadata": {},
     "output_type": "display_data"
    }
   ],
   "source": [
    "import math\n",
    "import pandas as pd\n",
    "import matplotlib.pyplot as plt\n",
    "import plotly.graph_objs as go\n",
    "import plotly\n",
    "import plotly.plotly as py\n",
    "import numpy as np\n",
    "%matplotlib inline\n",
    "from plotly.offline import init_notebook_mode, iplot\n",
    "init_notebook_mode(connected=True)\n",
    "from plotly import tools"
   ]
  },
  {
   "cell_type": "code",
   "execution_count": 2,
   "metadata": {},
   "outputs": [],
   "source": [
    "#Plotly\n",
    "py.sign_in('Rashmi62','PZ9Fo2GJIeYUz3z3NQrw')"
   ]
  },
  {
   "cell_type": "code",
   "execution_count": 4,
   "metadata": {},
   "outputs": [],
   "source": [
    "#Checking the top 5 row sof data \n",
    "import warnings\n",
    "warnings.filterwarnings(\"ignore\")\n",
    "H1B = pd.read_csv('H1B.csv', index_col=0, header=0)"
   ]
  },
  {
   "cell_type": "code",
   "execution_count": 5,
   "metadata": {},
   "outputs": [
    {
     "data": {
      "text/html": [
       "<div>\n",
       "<style scoped>\n",
       "    .dataframe tbody tr th:only-of-type {\n",
       "        vertical-align: middle;\n",
       "    }\n",
       "\n",
       "    .dataframe tbody tr th {\n",
       "        vertical-align: top;\n",
       "    }\n",
       "\n",
       "    .dataframe thead th {\n",
       "        text-align: right;\n",
       "    }\n",
       "</style>\n",
       "<table border=\"1\" class=\"dataframe\">\n",
       "  <thead>\n",
       "    <tr style=\"text-align: right;\">\n",
       "      <th></th>\n",
       "      <th>CASE_STATUS</th>\n",
       "      <th>EMPLOYER_NAME</th>\n",
       "      <th>SOC_NAME</th>\n",
       "      <th>JOB_TITLE</th>\n",
       "      <th>FULL_TIME_POSITION</th>\n",
       "      <th>PREVAILING_WAGE</th>\n",
       "      <th>YEAR</th>\n",
       "      <th>WORKSITE</th>\n",
       "      <th>lon</th>\n",
       "      <th>lat</th>\n",
       "    </tr>\n",
       "  </thead>\n",
       "  <tbody>\n",
       "    <tr>\n",
       "      <th>1</th>\n",
       "      <td>CERTIFIED-WITHDRAWN</td>\n",
       "      <td>UNIVERSITY OF MICHIGAN</td>\n",
       "      <td>BIOCHEMISTS AND BIOPHYSICISTS</td>\n",
       "      <td>POSTDOCTORAL RESEARCH FELLOW</td>\n",
       "      <td>N</td>\n",
       "      <td>36067.0</td>\n",
       "      <td>2016.0</td>\n",
       "      <td>ANN ARBOR, MICHIGAN</td>\n",
       "      <td>-83.743038</td>\n",
       "      <td>42.280826</td>\n",
       "    </tr>\n",
       "    <tr>\n",
       "      <th>2</th>\n",
       "      <td>CERTIFIED-WITHDRAWN</td>\n",
       "      <td>GOODMAN NETWORKS, INC.</td>\n",
       "      <td>CHIEF EXECUTIVES</td>\n",
       "      <td>CHIEF OPERATING OFFICER</td>\n",
       "      <td>Y</td>\n",
       "      <td>242674.0</td>\n",
       "      <td>2016.0</td>\n",
       "      <td>PLANO, TEXAS</td>\n",
       "      <td>-96.698886</td>\n",
       "      <td>33.019843</td>\n",
       "    </tr>\n",
       "    <tr>\n",
       "      <th>3</th>\n",
       "      <td>CERTIFIED-WITHDRAWN</td>\n",
       "      <td>PORTS AMERICA GROUP, INC.</td>\n",
       "      <td>CHIEF EXECUTIVES</td>\n",
       "      <td>CHIEF PROCESS OFFICER</td>\n",
       "      <td>Y</td>\n",
       "      <td>193066.0</td>\n",
       "      <td>2016.0</td>\n",
       "      <td>JERSEY CITY, NEW JERSEY</td>\n",
       "      <td>-74.077642</td>\n",
       "      <td>40.728158</td>\n",
       "    </tr>\n",
       "    <tr>\n",
       "      <th>4</th>\n",
       "      <td>CERTIFIED-WITHDRAWN</td>\n",
       "      <td>GATES CORPORATION, A WHOLLY-OWNED SUBSIDIARY O...</td>\n",
       "      <td>CHIEF EXECUTIVES</td>\n",
       "      <td>REGIONAL PRESIDEN, AMERICAS</td>\n",
       "      <td>Y</td>\n",
       "      <td>220314.0</td>\n",
       "      <td>2016.0</td>\n",
       "      <td>DENVER, COLORADO</td>\n",
       "      <td>-104.990251</td>\n",
       "      <td>39.739236</td>\n",
       "    </tr>\n",
       "    <tr>\n",
       "      <th>5</th>\n",
       "      <td>WITHDRAWN</td>\n",
       "      <td>PEABODY INVESTMENTS CORP.</td>\n",
       "      <td>CHIEF EXECUTIVES</td>\n",
       "      <td>PRESIDENT MONGOLIA AND INDIA</td>\n",
       "      <td>Y</td>\n",
       "      <td>157518.4</td>\n",
       "      <td>2016.0</td>\n",
       "      <td>ST. LOUIS, MISSOURI</td>\n",
       "      <td>-90.199404</td>\n",
       "      <td>38.627003</td>\n",
       "    </tr>\n",
       "  </tbody>\n",
       "</table>\n",
       "</div>"
      ],
      "text/plain": [
       "           CASE_STATUS                                      EMPLOYER_NAME  \\\n",
       "1  CERTIFIED-WITHDRAWN                             UNIVERSITY OF MICHIGAN   \n",
       "2  CERTIFIED-WITHDRAWN                             GOODMAN NETWORKS, INC.   \n",
       "3  CERTIFIED-WITHDRAWN                          PORTS AMERICA GROUP, INC.   \n",
       "4  CERTIFIED-WITHDRAWN  GATES CORPORATION, A WHOLLY-OWNED SUBSIDIARY O...   \n",
       "5            WITHDRAWN                          PEABODY INVESTMENTS CORP.   \n",
       "\n",
       "                        SOC_NAME                     JOB_TITLE  \\\n",
       "1  BIOCHEMISTS AND BIOPHYSICISTS  POSTDOCTORAL RESEARCH FELLOW   \n",
       "2               CHIEF EXECUTIVES       CHIEF OPERATING OFFICER   \n",
       "3               CHIEF EXECUTIVES         CHIEF PROCESS OFFICER   \n",
       "4               CHIEF EXECUTIVES   REGIONAL PRESIDEN, AMERICAS   \n",
       "5               CHIEF EXECUTIVES  PRESIDENT MONGOLIA AND INDIA   \n",
       "\n",
       "  FULL_TIME_POSITION  PREVAILING_WAGE    YEAR                 WORKSITE  \\\n",
       "1                  N          36067.0  2016.0      ANN ARBOR, MICHIGAN   \n",
       "2                  Y         242674.0  2016.0             PLANO, TEXAS   \n",
       "3                  Y         193066.0  2016.0  JERSEY CITY, NEW JERSEY   \n",
       "4                  Y         220314.0  2016.0         DENVER, COLORADO   \n",
       "5                  Y         157518.4  2016.0      ST. LOUIS, MISSOURI   \n",
       "\n",
       "          lon        lat  \n",
       "1  -83.743038  42.280826  \n",
       "2  -96.698886  33.019843  \n",
       "3  -74.077642  40.728158  \n",
       "4 -104.990251  39.739236  \n",
       "5  -90.199404  38.627003  "
      ]
     },
     "execution_count": 5,
     "metadata": {},
     "output_type": "execute_result"
    }
   ],
   "source": [
    "#Checking the top 5 rows of data \n",
    "H1B.head()"
   ]
  },
  {
   "cell_type": "code",
   "execution_count": 6,
   "metadata": {},
   "outputs": [
    {
     "data": {
      "text/html": [
       "<div>\n",
       "<style scoped>\n",
       "    .dataframe tbody tr th:only-of-type {\n",
       "        vertical-align: middle;\n",
       "    }\n",
       "\n",
       "    .dataframe tbody tr th {\n",
       "        vertical-align: top;\n",
       "    }\n",
       "\n",
       "    .dataframe thead th {\n",
       "        text-align: right;\n",
       "    }\n",
       "</style>\n",
       "<table border=\"1\" class=\"dataframe\">\n",
       "  <thead>\n",
       "    <tr style=\"text-align: right;\">\n",
       "      <th></th>\n",
       "      <th>CASE_STATUS</th>\n",
       "      <th>EMPLOYER_NAME</th>\n",
       "      <th>SOC_NAME</th>\n",
       "      <th>JOB_TITLE</th>\n",
       "      <th>FULL_TIME_POSITION</th>\n",
       "      <th>PREVAILING_WAGE</th>\n",
       "      <th>YEAR</th>\n",
       "      <th>WORKSITE</th>\n",
       "      <th>lon</th>\n",
       "      <th>lat</th>\n",
       "    </tr>\n",
       "  </thead>\n",
       "  <tbody>\n",
       "    <tr>\n",
       "      <th>3002454</th>\n",
       "      <td>NaN</td>\n",
       "      <td>NaN</td>\n",
       "      <td>NaN</td>\n",
       "      <td>NaN</td>\n",
       "      <td>NaN</td>\n",
       "      <td>NaN</td>\n",
       "      <td>NaN</td>\n",
       "      <td>NYC, NEW YORK</td>\n",
       "      <td>-74.005941</td>\n",
       "      <td>40.712784</td>\n",
       "    </tr>\n",
       "    <tr>\n",
       "      <th>3002455</th>\n",
       "      <td>NaN</td>\n",
       "      <td>NaN</td>\n",
       "      <td>NaN</td>\n",
       "      <td>NaN</td>\n",
       "      <td>NaN</td>\n",
       "      <td>NaN</td>\n",
       "      <td>NaN</td>\n",
       "      <td>SOUTH LAKE, TEXAS</td>\n",
       "      <td>-97.134178</td>\n",
       "      <td>32.941236</td>\n",
       "    </tr>\n",
       "    <tr>\n",
       "      <th>3002456</th>\n",
       "      <td>NaN</td>\n",
       "      <td>NaN</td>\n",
       "      <td>NaN</td>\n",
       "      <td>NaN</td>\n",
       "      <td>NaN</td>\n",
       "      <td>NaN</td>\n",
       "      <td>NaN</td>\n",
       "      <td>CLINTON, NEW JERSEY</td>\n",
       "      <td>-74.909890</td>\n",
       "      <td>40.636768</td>\n",
       "    </tr>\n",
       "    <tr>\n",
       "      <th>3002457</th>\n",
       "      <td>NaN</td>\n",
       "      <td>NaN</td>\n",
       "      <td>NaN</td>\n",
       "      <td>NaN</td>\n",
       "      <td>NaN</td>\n",
       "      <td>NaN</td>\n",
       "      <td>NaN</td>\n",
       "      <td>OWINGS MILL, MARYLAND</td>\n",
       "      <td>-76.780253</td>\n",
       "      <td>39.419550</td>\n",
       "    </tr>\n",
       "    <tr>\n",
       "      <th>3002458</th>\n",
       "      <td>NaN</td>\n",
       "      <td>NaN</td>\n",
       "      <td>NaN</td>\n",
       "      <td>NaN</td>\n",
       "      <td>NaN</td>\n",
       "      <td>NaN</td>\n",
       "      <td>NaN</td>\n",
       "      <td>ALTANTA, GEORGIA</td>\n",
       "      <td>-84.387982</td>\n",
       "      <td>33.748995</td>\n",
       "    </tr>\n",
       "  </tbody>\n",
       "</table>\n",
       "</div>"
      ],
      "text/plain": [
       "        CASE_STATUS EMPLOYER_NAME SOC_NAME JOB_TITLE FULL_TIME_POSITION  \\\n",
       "3002454         NaN           NaN      NaN       NaN                NaN   \n",
       "3002455         NaN           NaN      NaN       NaN                NaN   \n",
       "3002456         NaN           NaN      NaN       NaN                NaN   \n",
       "3002457         NaN           NaN      NaN       NaN                NaN   \n",
       "3002458         NaN           NaN      NaN       NaN                NaN   \n",
       "\n",
       "         PREVAILING_WAGE  YEAR               WORKSITE        lon        lat  \n",
       "3002454              NaN   NaN          NYC, NEW YORK -74.005941  40.712784  \n",
       "3002455              NaN   NaN      SOUTH LAKE, TEXAS -97.134178  32.941236  \n",
       "3002456              NaN   NaN    CLINTON, NEW JERSEY -74.909890  40.636768  \n",
       "3002457              NaN   NaN  OWINGS MILL, MARYLAND -76.780253  39.419550  \n",
       "3002458              NaN   NaN       ALTANTA, GEORGIA -84.387982  33.748995  "
      ]
     },
     "execution_count": 6,
     "metadata": {},
     "output_type": "execute_result"
    }
   ],
   "source": [
    "#Checking the last 5 rows \n",
    "H1B.tail()"
   ]
  },
  {
   "cell_type": "code",
   "execution_count": 7,
   "metadata": {},
   "outputs": [
    {
     "data": {
      "text/plain": [
       "3002458"
      ]
     },
     "execution_count": 7,
     "metadata": {},
     "output_type": "execute_result"
    }
   ],
   "source": [
    "#Number of rows in the original dataset \n",
    "H1B.shape[0]"
   ]
  },
  {
   "cell_type": "code",
   "execution_count": 8,
   "metadata": {},
   "outputs": [
    {
     "data": {
      "text/plain": [
       "False"
      ]
     },
     "execution_count": 8,
     "metadata": {},
     "output_type": "execute_result"
    }
   ],
   "source": [
    "#Removing all empty rows\n",
    "H1B = H1B.dropna(axis = 0)\n",
    "H1B.isnull().values.any()"
   ]
  },
  {
   "cell_type": "code",
   "execution_count": 9,
   "metadata": {},
   "outputs": [
    {
     "data": {
      "text/html": [
       "<div>\n",
       "<style scoped>\n",
       "    .dataframe tbody tr th:only-of-type {\n",
       "        vertical-align: middle;\n",
       "    }\n",
       "\n",
       "    .dataframe tbody tr th {\n",
       "        vertical-align: top;\n",
       "    }\n",
       "\n",
       "    .dataframe thead th {\n",
       "        text-align: right;\n",
       "    }\n",
       "</style>\n",
       "<table border=\"1\" class=\"dataframe\">\n",
       "  <thead>\n",
       "    <tr style=\"text-align: right;\">\n",
       "      <th></th>\n",
       "      <th>CASE_STATUS</th>\n",
       "      <th>EMPLOYER_NAME</th>\n",
       "      <th>SOC_NAME</th>\n",
       "      <th>JOB_TITLE</th>\n",
       "      <th>FULL_TIME_POSITION</th>\n",
       "      <th>PREVAILING_WAGE</th>\n",
       "      <th>YEAR</th>\n",
       "      <th>WORKSITE</th>\n",
       "      <th>lon</th>\n",
       "      <th>lat</th>\n",
       "    </tr>\n",
       "  </thead>\n",
       "  <tbody>\n",
       "    <tr>\n",
       "      <th>3002441</th>\n",
       "      <td>WITHDRAWN</td>\n",
       "      <td>ORACLE AMERICA, INC.</td>\n",
       "      <td>Software Developers, Applications</td>\n",
       "      <td>SOFTWARE ENGINEER (SOFTWARE DEVELOPER 2)</td>\n",
       "      <td>Y</td>\n",
       "      <td>64800.0</td>\n",
       "      <td>2011.0</td>\n",
       "      <td>REDWOOD SHORES, CALIFORNIA</td>\n",
       "      <td>-122.245536</td>\n",
       "      <td>37.536413</td>\n",
       "    </tr>\n",
       "    <tr>\n",
       "      <th>3002442</th>\n",
       "      <td>WITHDRAWN</td>\n",
       "      <td>B &amp; D DENTAL CORP.</td>\n",
       "      <td>Materials Scientists</td>\n",
       "      <td>MATERIALS SCIENTIST</td>\n",
       "      <td>N</td>\n",
       "      <td>70553.6</td>\n",
       "      <td>2011.0</td>\n",
       "      <td>WEST VALLEY, UTAH</td>\n",
       "      <td>-112.001050</td>\n",
       "      <td>40.691613</td>\n",
       "    </tr>\n",
       "    <tr>\n",
       "      <th>3002443</th>\n",
       "      <td>WITHDRAWN</td>\n",
       "      <td>MEDTECH STAFFING &amp; SOLUTIONS, INC</td>\n",
       "      <td>Market Research Analysts and Marketing Special...</td>\n",
       "      <td>MARKET RESEARCH ANALYST</td>\n",
       "      <td>Y</td>\n",
       "      <td>33800.0</td>\n",
       "      <td>2011.0</td>\n",
       "      <td>AKRON, OHIO</td>\n",
       "      <td>-81.519005</td>\n",
       "      <td>41.081445</td>\n",
       "    </tr>\n",
       "    <tr>\n",
       "      <th>3002444</th>\n",
       "      <td>WITHDRAWN</td>\n",
       "      <td>LARSEN &amp; TOUBRO LIMITED</td>\n",
       "      <td>Commercial and Industrial Designers</td>\n",
       "      <td>DESIGN ENGINEER</td>\n",
       "      <td>Y</td>\n",
       "      <td>59800.0</td>\n",
       "      <td>2011.0</td>\n",
       "      <td>CHELMSFORD, MASSACHUSETTS</td>\n",
       "      <td>-71.367284</td>\n",
       "      <td>42.599814</td>\n",
       "    </tr>\n",
       "    <tr>\n",
       "      <th>3002445</th>\n",
       "      <td>WITHDRAWN</td>\n",
       "      <td>LARSEN &amp; TOUBRO LIMITED</td>\n",
       "      <td>Commercial and Industrial Designers</td>\n",
       "      <td>DESIGN ENGINEER</td>\n",
       "      <td>Y</td>\n",
       "      <td>59800.0</td>\n",
       "      <td>2011.0</td>\n",
       "      <td>CHELMSFORD, MASSACHUSETTS</td>\n",
       "      <td>-71.367284</td>\n",
       "      <td>42.599814</td>\n",
       "    </tr>\n",
       "  </tbody>\n",
       "</table>\n",
       "</div>"
      ],
      "text/plain": [
       "        CASE_STATUS                      EMPLOYER_NAME  \\\n",
       "3002441   WITHDRAWN               ORACLE AMERICA, INC.   \n",
       "3002442   WITHDRAWN                 B & D DENTAL CORP.   \n",
       "3002443   WITHDRAWN  MEDTECH STAFFING & SOLUTIONS, INC   \n",
       "3002444   WITHDRAWN            LARSEN & TOUBRO LIMITED   \n",
       "3002445   WITHDRAWN            LARSEN & TOUBRO LIMITED   \n",
       "\n",
       "                                                  SOC_NAME  \\\n",
       "3002441                  Software Developers, Applications   \n",
       "3002442                               Materials Scientists   \n",
       "3002443  Market Research Analysts and Marketing Special...   \n",
       "3002444                Commercial and Industrial Designers   \n",
       "3002445                Commercial and Industrial Designers   \n",
       "\n",
       "                                        JOB_TITLE FULL_TIME_POSITION  \\\n",
       "3002441  SOFTWARE ENGINEER (SOFTWARE DEVELOPER 2)                  Y   \n",
       "3002442                       MATERIALS SCIENTIST                  N   \n",
       "3002443                   MARKET RESEARCH ANALYST                  Y   \n",
       "3002444                           DESIGN ENGINEER                  Y   \n",
       "3002445                           DESIGN ENGINEER                  Y   \n",
       "\n",
       "         PREVAILING_WAGE    YEAR                    WORKSITE         lon  \\\n",
       "3002441          64800.0  2011.0  REDWOOD SHORES, CALIFORNIA -122.245536   \n",
       "3002442          70553.6  2011.0           WEST VALLEY, UTAH -112.001050   \n",
       "3002443          33800.0  2011.0                 AKRON, OHIO  -81.519005   \n",
       "3002444          59800.0  2011.0   CHELMSFORD, MASSACHUSETTS  -71.367284   \n",
       "3002445          59800.0  2011.0   CHELMSFORD, MASSACHUSETTS  -71.367284   \n",
       "\n",
       "               lat  \n",
       "3002441  37.536413  \n",
       "3002442  40.691613  \n",
       "3002443  41.081445  \n",
       "3002444  42.599814  \n",
       "3002445  42.599814  "
      ]
     },
     "execution_count": 9,
     "metadata": {},
     "output_type": "execute_result"
    }
   ],
   "source": [
    "#Rechecking the last few rows to make sure all rows and columns are not missing data\n",
    "H1B.tail()"
   ]
  },
  {
   "cell_type": "code",
   "execution_count": 10,
   "metadata": {},
   "outputs": [
    {
     "data": {
      "text/plain": [
       "10"
      ]
     },
     "execution_count": 10,
     "metadata": {},
     "output_type": "execute_result"
    }
   ],
   "source": [
    "#Finding the number of columns in the dataset\n",
    "#col_num=H1B.shape[1]\n",
    "#col_num\n",
    "len(H1B.columns)"
   ]
  },
  {
   "cell_type": "code",
   "execution_count": 11,
   "metadata": {},
   "outputs": [
    {
     "data": {
      "text/plain": [
       "2877765"
      ]
     },
     "execution_count": 11,
     "metadata": {},
     "output_type": "execute_result"
    }
   ],
   "source": [
    "#Finding the number of rows in the dataset after removing the empty rows\n",
    "#Alternatively use row_num = H1B.shape[0] \n",
    "#row_num\n",
    "len(H1B)"
   ]
  },
  {
   "cell_type": "code",
   "execution_count": 12,
   "metadata": {},
   "outputs": [],
   "source": [
    "#Dropping the unwanted columns in the data set\n",
    "H1B = H1B.drop(['CASE_STATUS','lon','lat'], axis=1)"
   ]
  },
  {
   "cell_type": "code",
   "execution_count": 13,
   "metadata": {},
   "outputs": [
    {
     "data": {
      "text/html": [
       "<div>\n",
       "<style scoped>\n",
       "    .dataframe tbody tr th:only-of-type {\n",
       "        vertical-align: middle;\n",
       "    }\n",
       "\n",
       "    .dataframe tbody tr th {\n",
       "        vertical-align: top;\n",
       "    }\n",
       "\n",
       "    .dataframe thead th {\n",
       "        text-align: right;\n",
       "    }\n",
       "</style>\n",
       "<table border=\"1\" class=\"dataframe\">\n",
       "  <thead>\n",
       "    <tr style=\"text-align: right;\">\n",
       "      <th></th>\n",
       "      <th>Employer Name</th>\n",
       "      <th>Soc Name</th>\n",
       "      <th>Job_Position</th>\n",
       "      <th>Full time</th>\n",
       "      <th>Wage</th>\n",
       "      <th>Year</th>\n",
       "      <th>Work Site</th>\n",
       "    </tr>\n",
       "  </thead>\n",
       "  <tbody>\n",
       "    <tr>\n",
       "      <th>1</th>\n",
       "      <td>UNIVERSITY OF MICHIGAN</td>\n",
       "      <td>BIOCHEMISTS AND BIOPHYSICISTS</td>\n",
       "      <td>POSTDOCTORAL RESEARCH FELLOW</td>\n",
       "      <td>N</td>\n",
       "      <td>36067.0</td>\n",
       "      <td>2016.0</td>\n",
       "      <td>ANN ARBOR, MICHIGAN</td>\n",
       "    </tr>\n",
       "    <tr>\n",
       "      <th>2</th>\n",
       "      <td>GOODMAN NETWORKS, INC.</td>\n",
       "      <td>CHIEF EXECUTIVES</td>\n",
       "      <td>CHIEF OPERATING OFFICER</td>\n",
       "      <td>Y</td>\n",
       "      <td>242674.0</td>\n",
       "      <td>2016.0</td>\n",
       "      <td>PLANO, TEXAS</td>\n",
       "    </tr>\n",
       "    <tr>\n",
       "      <th>3</th>\n",
       "      <td>PORTS AMERICA GROUP, INC.</td>\n",
       "      <td>CHIEF EXECUTIVES</td>\n",
       "      <td>CHIEF PROCESS OFFICER</td>\n",
       "      <td>Y</td>\n",
       "      <td>193066.0</td>\n",
       "      <td>2016.0</td>\n",
       "      <td>JERSEY CITY, NEW JERSEY</td>\n",
       "    </tr>\n",
       "    <tr>\n",
       "      <th>4</th>\n",
       "      <td>GATES CORPORATION, A WHOLLY-OWNED SUBSIDIARY O...</td>\n",
       "      <td>CHIEF EXECUTIVES</td>\n",
       "      <td>REGIONAL PRESIDEN, AMERICAS</td>\n",
       "      <td>Y</td>\n",
       "      <td>220314.0</td>\n",
       "      <td>2016.0</td>\n",
       "      <td>DENVER, COLORADO</td>\n",
       "    </tr>\n",
       "    <tr>\n",
       "      <th>5</th>\n",
       "      <td>PEABODY INVESTMENTS CORP.</td>\n",
       "      <td>CHIEF EXECUTIVES</td>\n",
       "      <td>PRESIDENT MONGOLIA AND INDIA</td>\n",
       "      <td>Y</td>\n",
       "      <td>157518.4</td>\n",
       "      <td>2016.0</td>\n",
       "      <td>ST. LOUIS, MISSOURI</td>\n",
       "    </tr>\n",
       "  </tbody>\n",
       "</table>\n",
       "</div>"
      ],
      "text/plain": [
       "                                       Employer Name  \\\n",
       "1                             UNIVERSITY OF MICHIGAN   \n",
       "2                             GOODMAN NETWORKS, INC.   \n",
       "3                          PORTS AMERICA GROUP, INC.   \n",
       "4  GATES CORPORATION, A WHOLLY-OWNED SUBSIDIARY O...   \n",
       "5                          PEABODY INVESTMENTS CORP.   \n",
       "\n",
       "                        Soc Name                  Job_Position Full time  \\\n",
       "1  BIOCHEMISTS AND BIOPHYSICISTS  POSTDOCTORAL RESEARCH FELLOW         N   \n",
       "2               CHIEF EXECUTIVES       CHIEF OPERATING OFFICER         Y   \n",
       "3               CHIEF EXECUTIVES         CHIEF PROCESS OFFICER         Y   \n",
       "4               CHIEF EXECUTIVES   REGIONAL PRESIDEN, AMERICAS         Y   \n",
       "5               CHIEF EXECUTIVES  PRESIDENT MONGOLIA AND INDIA         Y   \n",
       "\n",
       "       Wage    Year                Work Site  \n",
       "1   36067.0  2016.0      ANN ARBOR, MICHIGAN  \n",
       "2  242674.0  2016.0             PLANO, TEXAS  \n",
       "3  193066.0  2016.0  JERSEY CITY, NEW JERSEY  \n",
       "4  220314.0  2016.0         DENVER, COLORADO  \n",
       "5  157518.4  2016.0      ST. LOUIS, MISSOURI  "
      ]
     },
     "execution_count": 13,
     "metadata": {},
     "output_type": "execute_result"
    }
   ],
   "source": [
    "#Renaming all the cloumns\n",
    "H1B.rename(columns={'EMPLOYER_NAME':'Employer Name', \"SOC_NAME\":\"Soc Name\",'JOB_TITLE':\"Job_Position\", \n",
    "                    \"FULL_TIME_POSITION\":'Full time','PREVAILING_WAGE':'Wage','YEAR':'Year',\n",
    "                    \"WORKSITE\":'Work Site'}, inplace=True)\n",
    "H1B.head()"
   ]
  },
  {
   "cell_type": "code",
   "execution_count": 14,
   "metadata": {},
   "outputs": [
    {
     "data": {
      "text/html": [
       "<div>\n",
       "<style scoped>\n",
       "    .dataframe tbody tr th:only-of-type {\n",
       "        vertical-align: middle;\n",
       "    }\n",
       "\n",
       "    .dataframe tbody tr th {\n",
       "        vertical-align: top;\n",
       "    }\n",
       "\n",
       "    .dataframe thead th {\n",
       "        text-align: right;\n",
       "    }\n",
       "</style>\n",
       "<table border=\"1\" class=\"dataframe\">\n",
       "  <thead>\n",
       "    <tr style=\"text-align: right;\">\n",
       "      <th></th>\n",
       "      <th>Employer Name</th>\n",
       "      <th>Soc Name</th>\n",
       "      <th>Job_Position</th>\n",
       "      <th>Full time</th>\n",
       "      <th>Wage</th>\n",
       "      <th>Year</th>\n",
       "      <th>Work Site</th>\n",
       "      <th>Applicants</th>\n",
       "    </tr>\n",
       "  </thead>\n",
       "  <tbody>\n",
       "    <tr>\n",
       "      <th>1</th>\n",
       "      <td>UNIVERSITY OF MICHIGAN</td>\n",
       "      <td>BIOCHEMISTS AND BIOPHYSICISTS</td>\n",
       "      <td>POSTDOCTORAL RESEARCH FELLOW</td>\n",
       "      <td>N</td>\n",
       "      <td>36067.0</td>\n",
       "      <td>2016.0</td>\n",
       "      <td>ANN ARBOR, MICHIGAN</td>\n",
       "      <td>1</td>\n",
       "    </tr>\n",
       "    <tr>\n",
       "      <th>2</th>\n",
       "      <td>GOODMAN NETWORKS, INC.</td>\n",
       "      <td>CHIEF EXECUTIVES</td>\n",
       "      <td>CHIEF OPERATING OFFICER</td>\n",
       "      <td>Y</td>\n",
       "      <td>242674.0</td>\n",
       "      <td>2016.0</td>\n",
       "      <td>PLANO, TEXAS</td>\n",
       "      <td>1</td>\n",
       "    </tr>\n",
       "    <tr>\n",
       "      <th>3</th>\n",
       "      <td>PORTS AMERICA GROUP, INC.</td>\n",
       "      <td>CHIEF EXECUTIVES</td>\n",
       "      <td>CHIEF PROCESS OFFICER</td>\n",
       "      <td>Y</td>\n",
       "      <td>193066.0</td>\n",
       "      <td>2016.0</td>\n",
       "      <td>JERSEY CITY, NEW JERSEY</td>\n",
       "      <td>1</td>\n",
       "    </tr>\n",
       "    <tr>\n",
       "      <th>4</th>\n",
       "      <td>GATES CORPORATION, A WHOLLY-OWNED SUBSIDIARY O...</td>\n",
       "      <td>CHIEF EXECUTIVES</td>\n",
       "      <td>REGIONAL PRESIDEN, AMERICAS</td>\n",
       "      <td>Y</td>\n",
       "      <td>220314.0</td>\n",
       "      <td>2016.0</td>\n",
       "      <td>DENVER, COLORADO</td>\n",
       "      <td>1</td>\n",
       "    </tr>\n",
       "    <tr>\n",
       "      <th>5</th>\n",
       "      <td>PEABODY INVESTMENTS CORP.</td>\n",
       "      <td>CHIEF EXECUTIVES</td>\n",
       "      <td>PRESIDENT MONGOLIA AND INDIA</td>\n",
       "      <td>Y</td>\n",
       "      <td>157518.4</td>\n",
       "      <td>2016.0</td>\n",
       "      <td>ST. LOUIS, MISSOURI</td>\n",
       "      <td>1</td>\n",
       "    </tr>\n",
       "  </tbody>\n",
       "</table>\n",
       "</div>"
      ],
      "text/plain": [
       "                                       Employer Name  \\\n",
       "1                             UNIVERSITY OF MICHIGAN   \n",
       "2                             GOODMAN NETWORKS, INC.   \n",
       "3                          PORTS AMERICA GROUP, INC.   \n",
       "4  GATES CORPORATION, A WHOLLY-OWNED SUBSIDIARY O...   \n",
       "5                          PEABODY INVESTMENTS CORP.   \n",
       "\n",
       "                        Soc Name                  Job_Position Full time  \\\n",
       "1  BIOCHEMISTS AND BIOPHYSICISTS  POSTDOCTORAL RESEARCH FELLOW         N   \n",
       "2               CHIEF EXECUTIVES       CHIEF OPERATING OFFICER         Y   \n",
       "3               CHIEF EXECUTIVES         CHIEF PROCESS OFFICER         Y   \n",
       "4               CHIEF EXECUTIVES   REGIONAL PRESIDEN, AMERICAS         Y   \n",
       "5               CHIEF EXECUTIVES  PRESIDENT MONGOLIA AND INDIA         Y   \n",
       "\n",
       "       Wage    Year                Work Site  Applicants  \n",
       "1   36067.0  2016.0      ANN ARBOR, MICHIGAN           1  \n",
       "2  242674.0  2016.0             PLANO, TEXAS           1  \n",
       "3  193066.0  2016.0  JERSEY CITY, NEW JERSEY           1  \n",
       "4  220314.0  2016.0         DENVER, COLORADO           1  \n",
       "5  157518.4  2016.0      ST. LOUIS, MISSOURI           1  "
      ]
     },
     "execution_count": 14,
     "metadata": {},
     "output_type": "execute_result"
    }
   ],
   "source": [
    "#creating a count variable for recording the number of H1B applicants\n",
    "#grouping by another variable\n",
    "H1B['Applicants'] = 1\n",
    "H1B.head()"
   ]
  },
  {
   "cell_type": "code",
   "execution_count": 15,
   "metadata": {},
   "outputs": [],
   "source": [
    "#Creating a copy\n",
    "H1B1=H1B.copy()"
   ]
  },
  {
   "cell_type": "code",
   "execution_count": 16,
   "metadata": {},
   "outputs": [],
   "source": [
    "#Finding the Employers with the maximum number of applicants from 2011-2016\n",
    "H1BEmp = H1B1.drop(['Soc Name','Job_Position','Full time','Wage','Work Site'], axis=1)"
   ]
  },
  {
   "cell_type": "code",
   "execution_count": 17,
   "metadata": {},
   "outputs": [
    {
     "data": {
      "text/html": [
       "<div>\n",
       "<style scoped>\n",
       "    .dataframe tbody tr th:only-of-type {\n",
       "        vertical-align: middle;\n",
       "    }\n",
       "\n",
       "    .dataframe tbody tr th {\n",
       "        vertical-align: top;\n",
       "    }\n",
       "\n",
       "    .dataframe thead th {\n",
       "        text-align: right;\n",
       "    }\n",
       "</style>\n",
       "<table border=\"1\" class=\"dataframe\">\n",
       "  <thead>\n",
       "    <tr style=\"text-align: right;\">\n",
       "      <th></th>\n",
       "      <th>Employer Name</th>\n",
       "      <th>Year</th>\n",
       "      <th>Applicants</th>\n",
       "    </tr>\n",
       "  </thead>\n",
       "  <tbody>\n",
       "    <tr>\n",
       "      <th>1</th>\n",
       "      <td>UNIVERSITY OF MICHIGAN</td>\n",
       "      <td>2016.0</td>\n",
       "      <td>1</td>\n",
       "    </tr>\n",
       "    <tr>\n",
       "      <th>2</th>\n",
       "      <td>GOODMAN NETWORKS, INC.</td>\n",
       "      <td>2016.0</td>\n",
       "      <td>1</td>\n",
       "    </tr>\n",
       "    <tr>\n",
       "      <th>3</th>\n",
       "      <td>PORTS AMERICA GROUP, INC.</td>\n",
       "      <td>2016.0</td>\n",
       "      <td>1</td>\n",
       "    </tr>\n",
       "    <tr>\n",
       "      <th>4</th>\n",
       "      <td>GATES CORPORATION, A WHOLLY-OWNED SUBSIDIARY O...</td>\n",
       "      <td>2016.0</td>\n",
       "      <td>1</td>\n",
       "    </tr>\n",
       "    <tr>\n",
       "      <th>5</th>\n",
       "      <td>PEABODY INVESTMENTS CORP.</td>\n",
       "      <td>2016.0</td>\n",
       "      <td>1</td>\n",
       "    </tr>\n",
       "  </tbody>\n",
       "</table>\n",
       "</div>"
      ],
      "text/plain": [
       "                                       Employer Name    Year  Applicants\n",
       "1                             UNIVERSITY OF MICHIGAN  2016.0           1\n",
       "2                             GOODMAN NETWORKS, INC.  2016.0           1\n",
       "3                          PORTS AMERICA GROUP, INC.  2016.0           1\n",
       "4  GATES CORPORATION, A WHOLLY-OWNED SUBSIDIARY O...  2016.0           1\n",
       "5                          PEABODY INVESTMENTS CORP.  2016.0           1"
      ]
     },
     "execution_count": 17,
     "metadata": {},
     "output_type": "execute_result"
    }
   ],
   "source": [
    "H1BEmp.head()"
   ]
  },
  {
   "cell_type": "code",
   "execution_count": 18,
   "metadata": {},
   "outputs": [
    {
     "data": {
      "text/html": [
       "<div>\n",
       "<style scoped>\n",
       "    .dataframe tbody tr th:only-of-type {\n",
       "        vertical-align: middle;\n",
       "    }\n",
       "\n",
       "    .dataframe tbody tr th {\n",
       "        vertical-align: top;\n",
       "    }\n",
       "\n",
       "    .dataframe thead th {\n",
       "        text-align: right;\n",
       "    }\n",
       "</style>\n",
       "<table border=\"1\" class=\"dataframe\">\n",
       "  <thead>\n",
       "    <tr style=\"text-align: right;\">\n",
       "      <th></th>\n",
       "      <th>Employer Name</th>\n",
       "      <th>Year</th>\n",
       "      <th>Applicants</th>\n",
       "    </tr>\n",
       "  </thead>\n",
       "  <tbody>\n",
       "    <tr>\n",
       "      <th>3002441</th>\n",
       "      <td>ORACLE AMERICA, INC.</td>\n",
       "      <td>2011.0</td>\n",
       "      <td>1</td>\n",
       "    </tr>\n",
       "    <tr>\n",
       "      <th>3002442</th>\n",
       "      <td>B &amp; D DENTAL CORP.</td>\n",
       "      <td>2011.0</td>\n",
       "      <td>1</td>\n",
       "    </tr>\n",
       "    <tr>\n",
       "      <th>3002443</th>\n",
       "      <td>MEDTECH STAFFING &amp; SOLUTIONS, INC</td>\n",
       "      <td>2011.0</td>\n",
       "      <td>1</td>\n",
       "    </tr>\n",
       "    <tr>\n",
       "      <th>3002444</th>\n",
       "      <td>LARSEN &amp; TOUBRO LIMITED</td>\n",
       "      <td>2011.0</td>\n",
       "      <td>1</td>\n",
       "    </tr>\n",
       "    <tr>\n",
       "      <th>3002445</th>\n",
       "      <td>LARSEN &amp; TOUBRO LIMITED</td>\n",
       "      <td>2011.0</td>\n",
       "      <td>1</td>\n",
       "    </tr>\n",
       "  </tbody>\n",
       "</table>\n",
       "</div>"
      ],
      "text/plain": [
       "                             Employer Name    Year  Applicants\n",
       "3002441               ORACLE AMERICA, INC.  2011.0           1\n",
       "3002442                 B & D DENTAL CORP.  2011.0           1\n",
       "3002443  MEDTECH STAFFING & SOLUTIONS, INC  2011.0           1\n",
       "3002444            LARSEN & TOUBRO LIMITED  2011.0           1\n",
       "3002445            LARSEN & TOUBRO LIMITED  2011.0           1"
      ]
     },
     "execution_count": 18,
     "metadata": {},
     "output_type": "execute_result"
    }
   ],
   "source": [
    "H1BEmp.tail()"
   ]
  },
  {
   "cell_type": "code",
   "execution_count": 19,
   "metadata": {},
   "outputs": [
    {
     "data": {
      "text/html": [
       "<div>\n",
       "<style scoped>\n",
       "    .dataframe tbody tr th:only-of-type {\n",
       "        vertical-align: middle;\n",
       "    }\n",
       "\n",
       "    .dataframe tbody tr th {\n",
       "        vertical-align: top;\n",
       "    }\n",
       "\n",
       "    .dataframe thead th {\n",
       "        text-align: right;\n",
       "    }\n",
       "</style>\n",
       "<table border=\"1\" class=\"dataframe\">\n",
       "  <thead>\n",
       "    <tr style=\"text-align: right;\">\n",
       "      <th></th>\n",
       "      <th>Applicants</th>\n",
       "    </tr>\n",
       "    <tr>\n",
       "      <th>Year</th>\n",
       "      <th></th>\n",
       "    </tr>\n",
       "  </thead>\n",
       "  <tbody>\n",
       "    <tr>\n",
       "      <th>2011.0</th>\n",
       "      <td>333625</td>\n",
       "    </tr>\n",
       "    <tr>\n",
       "      <th>2012.0</th>\n",
       "      <td>394267</td>\n",
       "    </tr>\n",
       "    <tr>\n",
       "      <th>2013.0</th>\n",
       "      <td>422427</td>\n",
       "    </tr>\n",
       "    <tr>\n",
       "      <th>2014.0</th>\n",
       "      <td>498027</td>\n",
       "    </tr>\n",
       "    <tr>\n",
       "      <th>2015.0</th>\n",
       "      <td>600120</td>\n",
       "    </tr>\n",
       "    <tr>\n",
       "      <th>2016.0</th>\n",
       "      <td>629299</td>\n",
       "    </tr>\n",
       "  </tbody>\n",
       "</table>\n",
       "</div>"
      ],
      "text/plain": [
       "        Applicants\n",
       "Year              \n",
       "2011.0      333625\n",
       "2012.0      394267\n",
       "2013.0      422427\n",
       "2014.0      498027\n",
       "2015.0      600120\n",
       "2016.0      629299"
      ]
     },
     "execution_count": 19,
     "metadata": {},
     "output_type": "execute_result"
    }
   ],
   "source": [
    "#Finding the number of H1B Applicants by Year\n",
    "Sum = H1BEmp.groupby('Year').sum()\n",
    "Sum"
   ]
  },
  {
   "cell_type": "code",
   "execution_count": 20,
   "metadata": {},
   "outputs": [
    {
     "data": {
      "image/png": "[encoded data removed]",
      "text/plain": [
       "<Figure size 1440x720 with 1 Axes>"
      ]
     },
     "metadata": {
      "needs_background": "light"
     },
     "output_type": "display_data"
    }
   ],
   "source": [
    "#Using a time series that displays the change in the Number of Applicants sponsored between 2011 and 2016\n",
    "Sumplot= Sum.plot(figsize=(20,10), fontsize=13)\n",
    "plt.legend(loc='best', fontsize=13)\n",
    "Sumplot.set_xlabel('Year', fontsize=13)\n",
    "Sumplot.set_ylabel('Number of Applicants', fontsize=14)\n",
    "plt.show()"
   ]
  },
  {
   "cell_type": "code",
   "execution_count": 21,
   "metadata": {},
   "outputs": [
    {
     "data": {
      "text/plain": [
       "Employer Name\n",
       "INFOSYS LIMITED                                    130257\n",
       "TATA CONSULTANCY SERVICES LIMITED                   64273\n",
       "WIPRO LIMITED                                       45673\n",
       "DELOITTE CONSULTING LLP                             35999\n",
       "IBM INDIA PRIVATE LIMITED                           33585\n",
       "ACCENTURE LLP                                       33226\n",
       "MICROSOFT CORPORATION                               25551\n",
       "HCL AMERICA, INC.                                   22488\n",
       "ERNST & YOUNG U.S. LLP                              18094\n",
       "COGNIZANT TECHNOLOGY SOLUTIONS U.S. CORPORATION     17322\n",
       "Name: Applicants, dtype: int64"
      ]
     },
     "execution_count": 21,
     "metadata": {},
     "output_type": "execute_result"
    }
   ],
   "source": [
    "#Top 10 companies who have applied for the maximum H1Bs for it's employees \n",
    "H1BEmpl=H1B.groupby(['Employer Name'])['Applicants'].sum()\n",
    "H1BEmpl1=H1BEmpl.sort_values(ascending=False).head(10)\n",
    "H1BEmpl1"
   ]
  },
  {
   "cell_type": "code",
   "execution_count": 22,
   "metadata": {
    "scrolled": true
   },
   "outputs": [
    {
     "data": {
      "image/png": "[encoded data removed]",
      "text/plain": [
       "<Figure size 1152x720 with 1 Axes>"
      ]
     },
     "metadata": {
      "needs_background": "light"
     },
     "output_type": "display_data"
    }
   ],
   "source": [
    "#Plotting a bar graph of the above Computation\n",
    "H1BEmpl1.plot(kind='bar',title='TOP 10 Companies applying for H1Bs for their Employees' ,\n",
    "           figsize=(16,10), legend=False, color=['navy'], fontsize=14)\n",
    "plt.xlabel('Employer Name',fontsize=18)\n",
    "plt.ylabel('Number of Applicants',fontsize=18)\n",
    "plt.show()"
   ]
  },
  {
   "cell_type": "code",
   "execution_count": 23,
   "metadata": {},
   "outputs": [],
   "source": [
    "#Shortlisting the aboe \n",
    "H1Btop10=H1B.groupby(['Employer Name', \"Year\"])[\"Applicants\"].sum()"
   ]
  },
  {
   "cell_type": "code",
   "execution_count": 24,
   "metadata": {
    "collapsed": true
   },
   "outputs": [
    {
     "data": {
      "text/plain": [
       "Employer Name                                    Year  \n",
       "ACCENTURE LLP                                    2011.0     1248\n",
       "                                                 2012.0     2601\n",
       "                                                 2013.0     4973\n",
       "                                                 2014.0     5476\n",
       "                                                 2015.0     9564\n",
       "                                                 2016.0     9364\n",
       "COGNIZANT TECHNOLOGY SOLUTIONS U.S. CORPORATION  2011.0     2649\n",
       "                                                 2012.0     1827\n",
       "                                                 2013.0     1697\n",
       "                                                 2014.0     2352\n",
       "                                                 2015.0     3490\n",
       "                                                 2016.0     5307\n",
       "DELOITTE CONSULTING LLP                          2011.0     3475\n",
       "                                                 2012.0     4578\n",
       "                                                 2013.0     5967\n",
       "                                                 2014.0     6905\n",
       "                                                 2015.0     7500\n",
       "                                                 2016.0     7574\n",
       "ERNST & YOUNG U.S. LLP                           2011.0     1349\n",
       "                                                 2012.0     2300\n",
       "                                                 2013.0     2160\n",
       "                                                 2014.0     3699\n",
       "                                                 2015.0     4117\n",
       "                                                 2016.0     4469\n",
       "HCL AMERICA, INC.                                2011.0     1669\n",
       "                                                 2012.0     2148\n",
       "                                                 2013.0     2977\n",
       "                                                 2014.0     4718\n",
       "                                                 2015.0     6073\n",
       "                                                 2016.0     4903\n",
       "IBM INDIA PRIVATE LIMITED                        2011.0      783\n",
       "                                                 2012.0     4007\n",
       "                                                 2013.0     3541\n",
       "                                                 2014.0     4943\n",
       "                                                 2015.0    10613\n",
       "                                                 2016.0     9698\n",
       "INFOSYS LIMITED                                  2011.0      193\n",
       "                                                 2012.0    15713\n",
       "                                                 2013.0    32139\n",
       "                                                 2014.0    23702\n",
       "                                                 2015.0    33214\n",
       "                                                 2016.0    25296\n",
       "MICROSOFT CORPORATION                            2011.0     4252\n",
       "                                                 2012.0     4062\n",
       "                                                 2013.0     3901\n",
       "                                                 2014.0     3745\n",
       "                                                 2015.0     4573\n",
       "                                                 2016.0     5018\n",
       "TATA CONSULTANCY SERVICES LIMITED                2011.0     5383\n",
       "                                                 2012.0     6704\n",
       "                                                 2013.0     8734\n",
       "                                                 2014.0    14002\n",
       "                                                 2015.0    16417\n",
       "                                                 2016.0    13033\n",
       "WIPRO LIMITED                                    2011.0      975\n",
       "                                                 2012.0     7090\n",
       "                                                 2013.0     6697\n",
       "                                                 2014.0     8313\n",
       "                                                 2015.0    12100\n",
       "                                                 2016.0    10498\n",
       "Name: Applicants, dtype: int64"
      ]
     },
     "execution_count": 24,
     "metadata": {},
     "output_type": "execute_result"
    }
   ],
   "source": [
    "#The top 10 companies for H1B applicants from 2011-2016\n",
    "By_year=H1Btop10.loc[['INFOSYS LIMITED','TATA CONSULTANCY SERVICES LIMITED','WIPRO LIMITED','DELOITTE CONSULTING LLP',\n",
    "                   'IBM INDIA PRIVATE LIMITED','ACCENTURE LLP','MICROSOFT CORPORATION','HCL AMERICA, INC.','ERNST & YOUNG U.S. LLP',\n",
    "                   'COGNIZANT TECHNOLOGY SOLUTIONS U.S. CORPORATION'],]\n",
    "By_year"
   ]
  },
  {
   "cell_type": "code",
   "execution_count": 25,
   "metadata": {},
   "outputs": [
    {
     "data": {
      "image/png": "[encoded data removed]",
      "text/plain": [
       "<Figure size 1152x720 with 1 Axes>"
      ]
     },
     "metadata": {
      "needs_background": "light"
     },
     "output_type": "display_data"
    }
   ],
   "source": [
    "By_year.plot(kind='bar',title='TOP 10 Companies applying for H1Bs for their Employees' ,\n",
    "           figsize=(16,10), legend=True, fontsize=8)\n",
    "plt.xlabel('Employer Name',fontsize=18)\n",
    "plt.ylabel('Number of Applicants',fontsize=18)\n",
    "plt.show()"
   ]
  },
  {
   "cell_type": "code",
   "execution_count": 26,
   "metadata": {},
   "outputs": [],
   "source": [
    "# Finding the Statewise H1B Applicants for 2016\n",
    "H1B2=H1B.copy()"
   ]
  },
  {
   "cell_type": "code",
   "execution_count": 27,
   "metadata": {},
   "outputs": [],
   "source": [
    "H1BStatewise = H1B2.drop(['Soc Name','Full time',], axis=1)"
   ]
  },
  {
   "cell_type": "code",
   "execution_count": 28,
   "metadata": {},
   "outputs": [
    {
     "data": {
      "text/html": [
       "<div>\n",
       "<style scoped>\n",
       "    .dataframe tbody tr th:only-of-type {\n",
       "        vertical-align: middle;\n",
       "    }\n",
       "\n",
       "    .dataframe tbody tr th {\n",
       "        vertical-align: top;\n",
       "    }\n",
       "\n",
       "    .dataframe thead th {\n",
       "        text-align: right;\n",
       "    }\n",
       "</style>\n",
       "<table border=\"1\" class=\"dataframe\">\n",
       "  <thead>\n",
       "    <tr style=\"text-align: right;\">\n",
       "      <th></th>\n",
       "      <th>Employer Name</th>\n",
       "      <th>Job_Position</th>\n",
       "      <th>Wage</th>\n",
       "      <th>Year</th>\n",
       "      <th>Work Site</th>\n",
       "      <th>Applicants</th>\n",
       "    </tr>\n",
       "  </thead>\n",
       "  <tbody>\n",
       "    <tr>\n",
       "      <th>1</th>\n",
       "      <td>UNIVERSITY OF MICHIGAN</td>\n",
       "      <td>POSTDOCTORAL RESEARCH FELLOW</td>\n",
       "      <td>36067.0</td>\n",
       "      <td>2016.0</td>\n",
       "      <td>ANN ARBOR, MICHIGAN</td>\n",
       "      <td>1</td>\n",
       "    </tr>\n",
       "    <tr>\n",
       "      <th>2</th>\n",
       "      <td>GOODMAN NETWORKS, INC.</td>\n",
       "      <td>CHIEF OPERATING OFFICER</td>\n",
       "      <td>242674.0</td>\n",
       "      <td>2016.0</td>\n",
       "      <td>PLANO, TEXAS</td>\n",
       "      <td>1</td>\n",
       "    </tr>\n",
       "    <tr>\n",
       "      <th>3</th>\n",
       "      <td>PORTS AMERICA GROUP, INC.</td>\n",
       "      <td>CHIEF PROCESS OFFICER</td>\n",
       "      <td>193066.0</td>\n",
       "      <td>2016.0</td>\n",
       "      <td>JERSEY CITY, NEW JERSEY</td>\n",
       "      <td>1</td>\n",
       "    </tr>\n",
       "    <tr>\n",
       "      <th>4</th>\n",
       "      <td>GATES CORPORATION, A WHOLLY-OWNED SUBSIDIARY O...</td>\n",
       "      <td>REGIONAL PRESIDEN, AMERICAS</td>\n",
       "      <td>220314.0</td>\n",
       "      <td>2016.0</td>\n",
       "      <td>DENVER, COLORADO</td>\n",
       "      <td>1</td>\n",
       "    </tr>\n",
       "    <tr>\n",
       "      <th>5</th>\n",
       "      <td>PEABODY INVESTMENTS CORP.</td>\n",
       "      <td>PRESIDENT MONGOLIA AND INDIA</td>\n",
       "      <td>157518.4</td>\n",
       "      <td>2016.0</td>\n",
       "      <td>ST. LOUIS, MISSOURI</td>\n",
       "      <td>1</td>\n",
       "    </tr>\n",
       "  </tbody>\n",
       "</table>\n",
       "</div>"
      ],
      "text/plain": [
       "                                       Employer Name  \\\n",
       "1                             UNIVERSITY OF MICHIGAN   \n",
       "2                             GOODMAN NETWORKS, INC.   \n",
       "3                          PORTS AMERICA GROUP, INC.   \n",
       "4  GATES CORPORATION, A WHOLLY-OWNED SUBSIDIARY O...   \n",
       "5                          PEABODY INVESTMENTS CORP.   \n",
       "\n",
       "                   Job_Position      Wage    Year                Work Site  \\\n",
       "1  POSTDOCTORAL RESEARCH FELLOW   36067.0  2016.0      ANN ARBOR, MICHIGAN   \n",
       "2       CHIEF OPERATING OFFICER  242674.0  2016.0             PLANO, TEXAS   \n",
       "3         CHIEF PROCESS OFFICER  193066.0  2016.0  JERSEY CITY, NEW JERSEY   \n",
       "4   REGIONAL PRESIDEN, AMERICAS  220314.0  2016.0         DENVER, COLORADO   \n",
       "5  PRESIDENT MONGOLIA AND INDIA  157518.4  2016.0      ST. LOUIS, MISSOURI   \n",
       "\n",
       "   Applicants  \n",
       "1           1  \n",
       "2           1  \n",
       "3           1  \n",
       "4           1  \n",
       "5           1  "
      ]
     },
     "execution_count": 28,
     "metadata": {},
     "output_type": "execute_result"
    }
   ],
   "source": [
    "H1BStatewise.head()"
   ]
  },
  {
   "cell_type": "code",
   "execution_count": 29,
   "metadata": {},
   "outputs": [
    {
     "data": {
      "text/html": [
       "<div>\n",
       "<style scoped>\n",
       "    .dataframe tbody tr th:only-of-type {\n",
       "        vertical-align: middle;\n",
       "    }\n",
       "\n",
       "    .dataframe tbody tr th {\n",
       "        vertical-align: top;\n",
       "    }\n",
       "\n",
       "    .dataframe thead th {\n",
       "        text-align: right;\n",
       "    }\n",
       "</style>\n",
       "<table border=\"1\" class=\"dataframe\">\n",
       "  <thead>\n",
       "    <tr style=\"text-align: right;\">\n",
       "      <th></th>\n",
       "      <th>Employer Name</th>\n",
       "      <th>Job_Position</th>\n",
       "      <th>Wage</th>\n",
       "      <th>Year</th>\n",
       "      <th>Work Site</th>\n",
       "      <th>Applicants</th>\n",
       "    </tr>\n",
       "  </thead>\n",
       "  <tbody>\n",
       "    <tr>\n",
       "      <th>1</th>\n",
       "      <td>UNIVERSITY OF MICHIGAN</td>\n",
       "      <td>POSTDOCTORAL RESEARCH FELLOW</td>\n",
       "      <td>36067.0</td>\n",
       "      <td>2016.0</td>\n",
       "      <td>ANN ARBOR, MICHIGAN</td>\n",
       "      <td>1</td>\n",
       "    </tr>\n",
       "    <tr>\n",
       "      <th>2</th>\n",
       "      <td>GOODMAN NETWORKS, INC.</td>\n",
       "      <td>CHIEF OPERATING OFFICER</td>\n",
       "      <td>242674.0</td>\n",
       "      <td>2016.0</td>\n",
       "      <td>PLANO, TEXAS</td>\n",
       "      <td>1</td>\n",
       "    </tr>\n",
       "    <tr>\n",
       "      <th>3</th>\n",
       "      <td>PORTS AMERICA GROUP, INC.</td>\n",
       "      <td>CHIEF PROCESS OFFICER</td>\n",
       "      <td>193066.0</td>\n",
       "      <td>2016.0</td>\n",
       "      <td>JERSEY CITY, NEW JERSEY</td>\n",
       "      <td>1</td>\n",
       "    </tr>\n",
       "    <tr>\n",
       "      <th>4</th>\n",
       "      <td>GATES CORPORATION, A WHOLLY-OWNED SUBSIDIARY O...</td>\n",
       "      <td>REGIONAL PRESIDEN, AMERICAS</td>\n",
       "      <td>220314.0</td>\n",
       "      <td>2016.0</td>\n",
       "      <td>DENVER, COLORADO</td>\n",
       "      <td>1</td>\n",
       "    </tr>\n",
       "    <tr>\n",
       "      <th>5</th>\n",
       "      <td>PEABODY INVESTMENTS CORP.</td>\n",
       "      <td>PRESIDENT MONGOLIA AND INDIA</td>\n",
       "      <td>157518.4</td>\n",
       "      <td>2016.0</td>\n",
       "      <td>ST. LOUIS, MISSOURI</td>\n",
       "      <td>1</td>\n",
       "    </tr>\n",
       "  </tbody>\n",
       "</table>\n",
       "</div>"
      ],
      "text/plain": [
       "                                       Employer Name  \\\n",
       "1                             UNIVERSITY OF MICHIGAN   \n",
       "2                             GOODMAN NETWORKS, INC.   \n",
       "3                          PORTS AMERICA GROUP, INC.   \n",
       "4  GATES CORPORATION, A WHOLLY-OWNED SUBSIDIARY O...   \n",
       "5                          PEABODY INVESTMENTS CORP.   \n",
       "\n",
       "                   Job_Position      Wage    Year                Work Site  \\\n",
       "1  POSTDOCTORAL RESEARCH FELLOW   36067.0  2016.0      ANN ARBOR, MICHIGAN   \n",
       "2       CHIEF OPERATING OFFICER  242674.0  2016.0             PLANO, TEXAS   \n",
       "3         CHIEF PROCESS OFFICER  193066.0  2016.0  JERSEY CITY, NEW JERSEY   \n",
       "4   REGIONAL PRESIDEN, AMERICAS  220314.0  2016.0         DENVER, COLORADO   \n",
       "5  PRESIDENT MONGOLIA AND INDIA  157518.4  2016.0      ST. LOUIS, MISSOURI   \n",
       "\n",
       "   Applicants  \n",
       "1           1  \n",
       "2           1  \n",
       "3           1  \n",
       "4           1  \n",
       "5           1  "
      ]
     },
     "execution_count": 29,
     "metadata": {},
     "output_type": "execute_result"
    }
   ],
   "source": [
    "#Using.loc function to narrow year down to 2016\n",
    "df=H1BStatewise.loc[(H1B2[\"Year\"]==2016)]\n",
    "df.head()"
   ]
  },
  {
   "cell_type": "code",
   "execution_count": 30,
   "metadata": {},
   "outputs": [
    {
     "data": {
      "text/html": [
       "<div>\n",
       "<style scoped>\n",
       "    .dataframe tbody tr th:only-of-type {\n",
       "        vertical-align: middle;\n",
       "    }\n",
       "\n",
       "    .dataframe tbody tr th {\n",
       "        vertical-align: top;\n",
       "    }\n",
       "\n",
       "    .dataframe thead th {\n",
       "        text-align: right;\n",
       "    }\n",
       "</style>\n",
       "<table border=\"1\" class=\"dataframe\">\n",
       "  <thead>\n",
       "    <tr style=\"text-align: right;\">\n",
       "      <th></th>\n",
       "      <th>Employer Name</th>\n",
       "      <th>Job_Position</th>\n",
       "      <th>Wage</th>\n",
       "      <th>Year</th>\n",
       "      <th>Work Site</th>\n",
       "      <th>Applicants</th>\n",
       "      <th>City</th>\n",
       "      <th>State</th>\n",
       "    </tr>\n",
       "  </thead>\n",
       "  <tbody>\n",
       "    <tr>\n",
       "      <th>1</th>\n",
       "      <td>UNIVERSITY OF MICHIGAN</td>\n",
       "      <td>POSTDOCTORAL RESEARCH FELLOW</td>\n",
       "      <td>36067.0</td>\n",
       "      <td>2016.0</td>\n",
       "      <td>ANN ARBOR, MICHIGAN</td>\n",
       "      <td>1</td>\n",
       "      <td>ANN ARBOR</td>\n",
       "      <td>MICHIGAN</td>\n",
       "    </tr>\n",
       "    <tr>\n",
       "      <th>2</th>\n",
       "      <td>GOODMAN NETWORKS, INC.</td>\n",
       "      <td>CHIEF OPERATING OFFICER</td>\n",
       "      <td>242674.0</td>\n",
       "      <td>2016.0</td>\n",
       "      <td>PLANO, TEXAS</td>\n",
       "      <td>1</td>\n",
       "      <td>PLANO</td>\n",
       "      <td>TEXAS</td>\n",
       "    </tr>\n",
       "    <tr>\n",
       "      <th>3</th>\n",
       "      <td>PORTS AMERICA GROUP, INC.</td>\n",
       "      <td>CHIEF PROCESS OFFICER</td>\n",
       "      <td>193066.0</td>\n",
       "      <td>2016.0</td>\n",
       "      <td>JERSEY CITY, NEW JERSEY</td>\n",
       "      <td>1</td>\n",
       "      <td>JERSEY CITY</td>\n",
       "      <td>NEW JERSEY</td>\n",
       "    </tr>\n",
       "    <tr>\n",
       "      <th>4</th>\n",
       "      <td>GATES CORPORATION, A WHOLLY-OWNED SUBSIDIARY O...</td>\n",
       "      <td>REGIONAL PRESIDEN, AMERICAS</td>\n",
       "      <td>220314.0</td>\n",
       "      <td>2016.0</td>\n",
       "      <td>DENVER, COLORADO</td>\n",
       "      <td>1</td>\n",
       "      <td>DENVER</td>\n",
       "      <td>COLORADO</td>\n",
       "    </tr>\n",
       "    <tr>\n",
       "      <th>5</th>\n",
       "      <td>PEABODY INVESTMENTS CORP.</td>\n",
       "      <td>PRESIDENT MONGOLIA AND INDIA</td>\n",
       "      <td>157518.4</td>\n",
       "      <td>2016.0</td>\n",
       "      <td>ST. LOUIS, MISSOURI</td>\n",
       "      <td>1</td>\n",
       "      <td>ST. LOUIS</td>\n",
       "      <td>MISSOURI</td>\n",
       "    </tr>\n",
       "  </tbody>\n",
       "</table>\n",
       "</div>"
      ],
      "text/plain": [
       "                                       Employer Name  \\\n",
       "1                             UNIVERSITY OF MICHIGAN   \n",
       "2                             GOODMAN NETWORKS, INC.   \n",
       "3                          PORTS AMERICA GROUP, INC.   \n",
       "4  GATES CORPORATION, A WHOLLY-OWNED SUBSIDIARY O...   \n",
       "5                          PEABODY INVESTMENTS CORP.   \n",
       "\n",
       "                   Job_Position      Wage    Year                Work Site  \\\n",
       "1  POSTDOCTORAL RESEARCH FELLOW   36067.0  2016.0      ANN ARBOR, MICHIGAN   \n",
       "2       CHIEF OPERATING OFFICER  242674.0  2016.0             PLANO, TEXAS   \n",
       "3         CHIEF PROCESS OFFICER  193066.0  2016.0  JERSEY CITY, NEW JERSEY   \n",
       "4   REGIONAL PRESIDEN, AMERICAS  220314.0  2016.0         DENVER, COLORADO   \n",
       "5  PRESIDENT MONGOLIA AND INDIA  157518.4  2016.0      ST. LOUIS, MISSOURI   \n",
       "\n",
       "   Applicants         City       State  \n",
       "1           1    ANN ARBOR    MICHIGAN  \n",
       "2           1        PLANO       TEXAS  \n",
       "3           1  JERSEY CITY  NEW JERSEY  \n",
       "4           1       DENVER    COLORADO  \n",
       "5           1    ST. LOUIS    MISSOURI  "
      ]
     },
     "execution_count": 30,
     "metadata": {},
     "output_type": "execute_result"
    }
   ],
   "source": [
    "#Separating Worksite into 2 columns, City and State\n",
    "new=df[\"Work Site\"].str.split(\", \", n=1, expand=True)\n",
    "df[\"City\"] =new[0]\n",
    "df[\"State\"]=new[1]\n",
    "df.head()"
   ]
  },
  {
   "cell_type": "code",
   "execution_count": 31,
   "metadata": {},
   "outputs": [],
   "source": [
    "df=df.drop([\"Work Site\"],axis=1)"
   ]
  },
  {
   "cell_type": "code",
   "execution_count": 32,
   "metadata": {},
   "outputs": [
    {
     "data": {
      "text/html": [
       "<div>\n",
       "<style scoped>\n",
       "    .dataframe tbody tr th:only-of-type {\n",
       "        vertical-align: middle;\n",
       "    }\n",
       "\n",
       "    .dataframe tbody tr th {\n",
       "        vertical-align: top;\n",
       "    }\n",
       "\n",
       "    .dataframe thead th {\n",
       "        text-align: right;\n",
       "    }\n",
       "</style>\n",
       "<table border=\"1\" class=\"dataframe\">\n",
       "  <thead>\n",
       "    <tr style=\"text-align: right;\">\n",
       "      <th></th>\n",
       "      <th>Employer Name</th>\n",
       "      <th>Job_Position</th>\n",
       "      <th>Wage</th>\n",
       "      <th>Year</th>\n",
       "      <th>Applicants</th>\n",
       "      <th>City</th>\n",
       "      <th>State</th>\n",
       "    </tr>\n",
       "  </thead>\n",
       "  <tbody>\n",
       "    <tr>\n",
       "      <th>1</th>\n",
       "      <td>UNIVERSITY OF MICHIGAN</td>\n",
       "      <td>POSTDOCTORAL RESEARCH FELLOW</td>\n",
       "      <td>36067.0</td>\n",
       "      <td>2016.0</td>\n",
       "      <td>1</td>\n",
       "      <td>ANN ARBOR</td>\n",
       "      <td>MICHIGAN</td>\n",
       "    </tr>\n",
       "    <tr>\n",
       "      <th>2</th>\n",
       "      <td>GOODMAN NETWORKS, INC.</td>\n",
       "      <td>CHIEF OPERATING OFFICER</td>\n",
       "      <td>242674.0</td>\n",
       "      <td>2016.0</td>\n",
       "      <td>1</td>\n",
       "      <td>PLANO</td>\n",
       "      <td>TEXAS</td>\n",
       "    </tr>\n",
       "    <tr>\n",
       "      <th>3</th>\n",
       "      <td>PORTS AMERICA GROUP, INC.</td>\n",
       "      <td>CHIEF PROCESS OFFICER</td>\n",
       "      <td>193066.0</td>\n",
       "      <td>2016.0</td>\n",
       "      <td>1</td>\n",
       "      <td>JERSEY CITY</td>\n",
       "      <td>NEW JERSEY</td>\n",
       "    </tr>\n",
       "    <tr>\n",
       "      <th>4</th>\n",
       "      <td>GATES CORPORATION, A WHOLLY-OWNED SUBSIDIARY O...</td>\n",
       "      <td>REGIONAL PRESIDEN, AMERICAS</td>\n",
       "      <td>220314.0</td>\n",
       "      <td>2016.0</td>\n",
       "      <td>1</td>\n",
       "      <td>DENVER</td>\n",
       "      <td>COLORADO</td>\n",
       "    </tr>\n",
       "    <tr>\n",
       "      <th>5</th>\n",
       "      <td>PEABODY INVESTMENTS CORP.</td>\n",
       "      <td>PRESIDENT MONGOLIA AND INDIA</td>\n",
       "      <td>157518.4</td>\n",
       "      <td>2016.0</td>\n",
       "      <td>1</td>\n",
       "      <td>ST. LOUIS</td>\n",
       "      <td>MISSOURI</td>\n",
       "    </tr>\n",
       "  </tbody>\n",
       "</table>\n",
       "</div>"
      ],
      "text/plain": [
       "                                       Employer Name  \\\n",
       "1                             UNIVERSITY OF MICHIGAN   \n",
       "2                             GOODMAN NETWORKS, INC.   \n",
       "3                          PORTS AMERICA GROUP, INC.   \n",
       "4  GATES CORPORATION, A WHOLLY-OWNED SUBSIDIARY O...   \n",
       "5                          PEABODY INVESTMENTS CORP.   \n",
       "\n",
       "                   Job_Position      Wage    Year  Applicants         City  \\\n",
       "1  POSTDOCTORAL RESEARCH FELLOW   36067.0  2016.0           1    ANN ARBOR   \n",
       "2       CHIEF OPERATING OFFICER  242674.0  2016.0           1        PLANO   \n",
       "3         CHIEF PROCESS OFFICER  193066.0  2016.0           1  JERSEY CITY   \n",
       "4   REGIONAL PRESIDEN, AMERICAS  220314.0  2016.0           1       DENVER   \n",
       "5  PRESIDENT MONGOLIA AND INDIA  157518.4  2016.0           1    ST. LOUIS   \n",
       "\n",
       "        State  \n",
       "1    MICHIGAN  \n",
       "2       TEXAS  \n",
       "3  NEW JERSEY  \n",
       "4    COLORADO  \n",
       "5    MISSOURI  "
      ]
     },
     "execution_count": 32,
     "metadata": {},
     "output_type": "execute_result"
    }
   ],
   "source": [
    "df.head()"
   ]
  },
  {
   "cell_type": "code",
   "execution_count": 33,
   "metadata": {},
   "outputs": [
    {
     "data": {
      "text/html": [
       "<div>\n",
       "<style scoped>\n",
       "    .dataframe tbody tr th:only-of-type {\n",
       "        vertical-align: middle;\n",
       "    }\n",
       "\n",
       "    .dataframe tbody tr th {\n",
       "        vertical-align: top;\n",
       "    }\n",
       "\n",
       "    .dataframe thead th {\n",
       "        text-align: right;\n",
       "    }\n",
       "</style>\n",
       "<table border=\"1\" class=\"dataframe\">\n",
       "  <thead>\n",
       "    <tr style=\"text-align: right;\">\n",
       "      <th></th>\n",
       "      <th>Employer Name</th>\n",
       "      <th>Job_Position</th>\n",
       "      <th>Wage</th>\n",
       "      <th>Year</th>\n",
       "      <th>Applicants</th>\n",
       "      <th>City</th>\n",
       "      <th>State</th>\n",
       "    </tr>\n",
       "  </thead>\n",
       "  <tbody>\n",
       "    <tr>\n",
       "      <th>647793</th>\n",
       "      <td>HEXAWARE TECHNOLOGIES, INC.</td>\n",
       "      <td>TECHNICAL ARCHITECT</td>\n",
       "      <td>69638.0</td>\n",
       "      <td>2016.0</td>\n",
       "      <td>1</td>\n",
       "      <td>RESTON</td>\n",
       "      <td>VIRGINIA</td>\n",
       "    </tr>\n",
       "    <tr>\n",
       "      <th>647794</th>\n",
       "      <td>UNIVERSITY OF MICHIGAN</td>\n",
       "      <td>RESEARCH FELLOW</td>\n",
       "      <td>49800.0</td>\n",
       "      <td>2016.0</td>\n",
       "      <td>1</td>\n",
       "      <td>ANN ARBOR</td>\n",
       "      <td>MICHIGAN</td>\n",
       "    </tr>\n",
       "    <tr>\n",
       "      <th>647795</th>\n",
       "      <td>HINDUJA TECH INC.</td>\n",
       "      <td>SENIOR ENGINEER</td>\n",
       "      <td>75275.0</td>\n",
       "      <td>2016.0</td>\n",
       "      <td>1</td>\n",
       "      <td>SALINE</td>\n",
       "      <td>MICHIGAN</td>\n",
       "    </tr>\n",
       "    <tr>\n",
       "      <th>647796</th>\n",
       "      <td>L&amp;T TECHNOLOGY SERVICES LIMITED</td>\n",
       "      <td>MECHANICAL ENGINEER</td>\n",
       "      <td>53518.0</td>\n",
       "      <td>2016.0</td>\n",
       "      <td>1</td>\n",
       "      <td>HAMMOND</td>\n",
       "      <td>INDIANA</td>\n",
       "    </tr>\n",
       "    <tr>\n",
       "      <th>647797</th>\n",
       "      <td>INFOSYS LIMITED</td>\n",
       "      <td>SENIOR PROJECT MANAGER - US</td>\n",
       "      <td>104478.0</td>\n",
       "      <td>2016.0</td>\n",
       "      <td>1</td>\n",
       "      <td>HOUSTON</td>\n",
       "      <td>TEXAS</td>\n",
       "    </tr>\n",
       "  </tbody>\n",
       "</table>\n",
       "</div>"
      ],
      "text/plain": [
       "                          Employer Name                 Job_Position  \\\n",
       "647793      HEXAWARE TECHNOLOGIES, INC.          TECHNICAL ARCHITECT   \n",
       "647794           UNIVERSITY OF MICHIGAN              RESEARCH FELLOW   \n",
       "647795                HINDUJA TECH INC.              SENIOR ENGINEER   \n",
       "647796  L&T TECHNOLOGY SERVICES LIMITED          MECHANICAL ENGINEER   \n",
       "647797                  INFOSYS LIMITED  SENIOR PROJECT MANAGER - US   \n",
       "\n",
       "            Wage    Year  Applicants       City     State  \n",
       "647793   69638.0  2016.0           1     RESTON  VIRGINIA  \n",
       "647794   49800.0  2016.0           1  ANN ARBOR  MICHIGAN  \n",
       "647795   75275.0  2016.0           1     SALINE  MICHIGAN  \n",
       "647796   53518.0  2016.0           1    HAMMOND   INDIANA  \n",
       "647797  104478.0  2016.0           1    HOUSTON     TEXAS  "
      ]
     },
     "execution_count": 33,
     "metadata": {},
     "output_type": "execute_result"
    }
   ],
   "source": [
    "df1=pd.DataFrame(df)\n",
    "\n",
    "df1.tail()"
   ]
  },
  {
   "cell_type": "code",
   "execution_count": null,
   "metadata": {},
   "outputs": [],
   "source": [
    "#Applicants for the year 2016 by State\n",
    "df2=df1.groupby(by=['State']).sum()\n",
    "df3=df2.sort_values(\"Applicants\", ascending=False).head(10)\n",
    "df3=df3.drop(['Year','Wage'], axis=1)\n",
    "df4 = df3.reset_index()\n",
    "df4"
   ]
  },
  {
   "cell_type": "code",
   "execution_count": 87,
   "metadata": {},
   "outputs": [
    {
     "data": {
      "text/plain": [
       "Index(['State', 'Applicants'], dtype='object')"
      ]
     },
     "execution_count": 87,
     "metadata": {},
     "output_type": "execute_result"
    }
   ],
   "source": [
    "#Column Names\n",
    "df4.columns"
   ]
  },
  {
   "cell_type": "code",
   "execution_count": 150,
   "metadata": {},
   "outputs": [],
   "source": [
    "#Converting States in uppercase to Uppercase to Titlecase\n",
    "#Map function only works with Python2 \n",
    "df4[\"State\"]=list(map(lambda x:x, df4[\"State\"]))\n",
    "df4[\"State\"]=df4['State'].str.title()"
   ]
  },
  {
   "cell_type": "code",
   "execution_count": 151,
   "metadata": {},
   "outputs": [
    {
     "data": {
      "text/plain": [
       "0    California\n",
       "1         Texas\n",
       "2      New York\n",
       "3    New Jersey\n",
       "4      Illinois\n",
       "Name: State, dtype: object"
      ]
     },
     "execution_count": 151,
     "metadata": {},
     "output_type": "execute_result"
    }
   ],
   "source": [
    "df4['State'].head()"
   ]
  },
  {
   "cell_type": "code",
   "execution_count": 152,
   "metadata": {},
   "outputs": [],
   "source": [
    "#Converting the US States to their equivalent codes\n",
    "state = {\n",
    "    'District of Columbia' : 'dc','Mississippi': 'MS', 'Oklahoma': 'OK', \n",
    "    'Delaware': 'DE', 'Minnesota': 'MN', 'Illinois': 'IL', 'Arkansas': 'AR', \n",
    "    'New Mexico': 'NM', 'Indiana': 'IN', 'Maryland': 'MD', 'Louisiana': 'LA', \n",
    "    'Idaho': 'ID', 'Wyoming': 'WY', 'Tennessee': 'TN', 'Arizona': 'AZ', \n",
    "    'Iowa': 'IA', 'Michigan': 'MI', 'Kansas': 'KS', 'Utah': 'UT', \n",
    "    'Virginia': 'VA', 'Oregon': 'OR', 'Connecticut': 'CT', 'Montana': 'MT', \n",
    "    'California': 'CA', 'Massachusetts': 'MA', 'West Virginia': 'WV', \n",
    "    'South Carolina': 'SC', 'New Hampshire': 'NH', 'Wisconsin': 'WI',\n",
    "    'Vermont': 'VT', 'Georgia': 'GA', 'North Dakota': 'ND', \n",
    "    'Pennsylvania': 'PA', 'Florida': 'FL', 'Alaska': 'AK', 'Kentucky': 'KY', \n",
    "    'Hawaii': 'HI', 'Nebraska': 'NE', 'Missouri': 'MO', 'Ohio': 'OH', \n",
    "    'Alabama': 'AL', 'Rhode Island': 'RI', 'South Dakota': 'SD', \n",
    "    'Colorado': 'CO', 'New Jersey': 'NJ', 'Washington': 'WA', \n",
    "    'North Carolina': 'NC', 'New York': 'NY', 'Texas': 'TX', \n",
    "    'Nevada': 'NV', 'Maine': 'ME'}"
   ]
  },
  {
   "cell_type": "code",
   "execution_count": 153,
   "metadata": {},
   "outputs": [
    {
     "data": {
      "text/html": [
       "<div>\n",
       "<style scoped>\n",
       "    .dataframe tbody tr th:only-of-type {\n",
       "        vertical-align: middle;\n",
       "    }\n",
       "\n",
       "    .dataframe tbody tr th {\n",
       "        vertical-align: top;\n",
       "    }\n",
       "\n",
       "    .dataframe thead th {\n",
       "        text-align: right;\n",
       "    }\n",
       "</style>\n",
       "<table border=\"1\" class=\"dataframe\">\n",
       "  <thead>\n",
       "    <tr style=\"text-align: right;\">\n",
       "      <th></th>\n",
       "      <th>State</th>\n",
       "      <th>Applicants</th>\n",
       "      <th>state</th>\n",
       "    </tr>\n",
       "  </thead>\n",
       "  <tbody>\n",
       "    <tr>\n",
       "      <th>0</th>\n",
       "      <td>California</td>\n",
       "      <td>118481</td>\n",
       "      <td>CA</td>\n",
       "    </tr>\n",
       "    <tr>\n",
       "      <th>1</th>\n",
       "      <td>Texas</td>\n",
       "      <td>67176</td>\n",
       "      <td>TX</td>\n",
       "    </tr>\n",
       "    <tr>\n",
       "      <th>2</th>\n",
       "      <td>New York</td>\n",
       "      <td>57379</td>\n",
       "      <td>NY</td>\n",
       "    </tr>\n",
       "    <tr>\n",
       "      <th>3</th>\n",
       "      <td>New Jersey</td>\n",
       "      <td>47332</td>\n",
       "      <td>NJ</td>\n",
       "    </tr>\n",
       "    <tr>\n",
       "      <th>4</th>\n",
       "      <td>Illinois</td>\n",
       "      <td>34201</td>\n",
       "      <td>IL</td>\n",
       "    </tr>\n",
       "    <tr>\n",
       "      <th>5</th>\n",
       "      <td>Massachusetts</td>\n",
       "      <td>24313</td>\n",
       "      <td>MA</td>\n",
       "    </tr>\n",
       "    <tr>\n",
       "      <th>6</th>\n",
       "      <td>Georgia</td>\n",
       "      <td>24268</td>\n",
       "      <td>GA</td>\n",
       "    </tr>\n",
       "    <tr>\n",
       "      <th>7</th>\n",
       "      <td>Washington</td>\n",
       "      <td>22857</td>\n",
       "      <td>WA</td>\n",
       "    </tr>\n",
       "    <tr>\n",
       "      <th>8</th>\n",
       "      <td>Pennsylvania</td>\n",
       "      <td>22442</td>\n",
       "      <td>PA</td>\n",
       "    </tr>\n",
       "    <tr>\n",
       "      <th>9</th>\n",
       "      <td>Florida</td>\n",
       "      <td>20200</td>\n",
       "      <td>FL</td>\n",
       "    </tr>\n",
       "  </tbody>\n",
       "</table>\n",
       "</div>"
      ],
      "text/plain": [
       "           State  Applicants state\n",
       "0     California      118481    CA\n",
       "1          Texas       67176    TX\n",
       "2       New York       57379    NY\n",
       "3     New Jersey       47332    NJ\n",
       "4       Illinois       34201    IL\n",
       "5  Massachusetts       24313    MA\n",
       "6        Georgia       24268    GA\n",
       "7     Washington       22857    WA\n",
       "8   Pennsylvania       22442    PA\n",
       "9        Florida       20200    FL"
      ]
     },
     "execution_count": 153,
     "metadata": {},
     "output_type": "execute_result"
    }
   ],
   "source": [
    "#Adding the state codes column for plotting\n",
    "df4['state'] = df4['State'].apply(lambda x : state[x])\n",
    "df4"
   ]
  },
  {
   "cell_type": "code",
   "execution_count": 154,
   "metadata": {},
   "outputs": [
    {
     "data": {
      "application/vnd.plotly.v1+json": {
       "config": {
        "linkText": "Export to plot.ly",
        "plotlyServerURL": "https://plot.ly",
        "showLink": false
       },
       "data": [
        {
         "colorbar": {
          "title": {
           "text": "Number of applications"
          }
         },
         "colorscale": [
          [
           0,
           "rgb(221,221,226)"
          ],
          [
           0.2,
           "rgb(195,195,202)"
          ],
          [
           0.4,
           "rgb(155,175,202)"
          ],
          [
           0.6,
           "rgb(140,138,185)"
          ],
          [
           0.8,
           "rgb(97,82,164)"
          ],
          [
           1,
           "rgb(67,22,128)"
          ]
         ],
         "hoverinfo": "location+z",
         "locationmode": "USA-states",
         "locations": [
          "CA",
          "TX",
          "NY",
          "NJ",
          "IL",
          "MA",
          "GA",
          "WA",
          "PA",
          "FL"
         ],
         "marker": {
          "line": {
           "color": "rgb(255,255,255)",
           "width": 2
          }
         },
         "type": "choropleth",
         "uid": "80d55b1d-195a-4c26-9371-640f7282f57a",
         "z": [
          118481,
          67176,
          57379,
          47332,
          34201,
          24313,
          24268,
          22857,
          22442,
          20200
         ]
        }
       ],
       "layout": {
        "geo": {
         "lakecolor": "rgb(92, 244, 256)",
         "projection": {
          "type": "albers usa"
         },
         "scope": "usa",
         "showlakes": true
        },
        "title": {
         "text": "Top 10 2016 H1B VISA APPLICATIONS BY STATE"
        }
       }
      },
      "text/html": [
       "<div id=\"e0813cdd-cc43-46f0-9635-e525bd6d6078\" style=\"height: 525px; width: 100%;\" class=\"plotly-graph-div\"></div><script type=\"text/javascript\">require([\"plotly\"], function(Plotly) { window.PLOTLYENV=window.PLOTLYENV || {};window.PLOTLYENV.BASE_URL=\"https://plot.ly\";\n",
       "if (document.getElementById(\"e0813cdd-cc43-46f0-9635-e525bd6d6078\")) {\n",
       "    Plotly.newPlot(\"e0813cdd-cc43-46f0-9635-e525bd6d6078\", [{\"colorbar\": {\"title\": {\"text\": \"Number of applications\"}}, \"colorscale\": [[0.0, \"rgb(221,221,226)\"], [0.2, \"rgb(195,195,202)\"], [0.4, \"rgb(155,175,202)\"], [0.6, \"rgb(140,138,185)\"], [0.8, \"rgb(97,82,164)\"], [1.0, \"rgb(67,22,128)\"]], \"hoverinfo\": \"location+z\", \"locationmode\": \"USA-states\", \"locations\": [\"CA\", \"TX\", \"NY\", \"NJ\", \"IL\", \"MA\", \"GA\", \"WA\", \"PA\", \"FL\"], \"marker\": {\"line\": {\"color\": \"rgb(255,255,255)\", \"width\": 2}}, \"z\": [118481, 67176, 57379, 47332, 34201, 24313, 24268, 22857, 22442, 20200], \"type\": \"choropleth\", \"uid\": \"da5f923c-ef30-4c84-b913-dd90474f06da\"}], {\"geo\": {\"lakecolor\": \"rgb(92, 244, 256)\", \"projection\": {\"type\": \"albers usa\"}, \"scope\": \"usa\", \"showlakes\": true}, \"title\": {\"text\": \"Top 10 2016 H1B VISA APPLICATIONS BY STATE\"}}, {\"showLink\": false, \"linkText\": \"Export to plot.ly\", \"plotlyServerURL\": \"https://plot.ly\"}); \n",
       "}\n",
       "});</script><script type=\"text/javascript\">window.addEventListener(\"resize\", function(){if (document.getElementById(\"e0813cdd-cc43-46f0-9635-e525bd6d6078\")) {window._Plotly.Plots.resize(document.getElementById(\"e0813cdd-cc43-46f0-9635-e525bd6d6078\"));};})</script>"
      ],
      "text/vnd.plotly.v1+html": [
       "<div id=\"e0813cdd-cc43-46f0-9635-e525bd6d6078\" style=\"height: 525px; width: 100%;\" class=\"plotly-graph-div\"></div><script type=\"text/javascript\">require([\"plotly\"], function(Plotly) { window.PLOTLYENV=window.PLOTLYENV || {};window.PLOTLYENV.BASE_URL=\"https://plot.ly\";\n",
       "if (document.getElementById(\"e0813cdd-cc43-46f0-9635-e525bd6d6078\")) {\n",
       "    Plotly.newPlot(\"e0813cdd-cc43-46f0-9635-e525bd6d6078\", [{\"colorbar\": {\"title\": {\"text\": \"Number of applications\"}}, \"colorscale\": [[0.0, \"rgb(221,221,226)\"], [0.2, \"rgb(195,195,202)\"], [0.4, \"rgb(155,175,202)\"], [0.6, \"rgb(140,138,185)\"], [0.8, \"rgb(97,82,164)\"], [1.0, \"rgb(67,22,128)\"]], \"hoverinfo\": \"location+z\", \"locationmode\": \"USA-states\", \"locations\": [\"CA\", \"TX\", \"NY\", \"NJ\", \"IL\", \"MA\", \"GA\", \"WA\", \"PA\", \"FL\"], \"marker\": {\"line\": {\"color\": \"rgb(255,255,255)\", \"width\": 2}}, \"z\": [118481, 67176, 57379, 47332, 34201, 24313, 24268, 22857, 22442, 20200], \"type\": \"choropleth\", \"uid\": \"da5f923c-ef30-4c84-b913-dd90474f06da\"}], {\"geo\": {\"lakecolor\": \"rgb(92, 244, 256)\", \"projection\": {\"type\": \"albers usa\"}, \"scope\": \"usa\", \"showlakes\": true}, \"title\": {\"text\": \"Top 10 2016 H1B VISA APPLICATIONS BY STATE\"}}, {\"showLink\": false, \"linkText\": \"Export to plot.ly\", \"plotlyServerURL\": \"https://plot.ly\"}); \n",
       "}\n",
       "});</script><script type=\"text/javascript\">window.addEventListener(\"resize\", function(){if (document.getElementById(\"e0813cdd-cc43-46f0-9635-e525bd6d6078\")) {window._Plotly.Plots.resize(document.getElementById(\"e0813cdd-cc43-46f0-9635-e525bd6d6078\"));};})</script>"
      ]
     },
     "metadata": {},
     "output_type": "display_data"
    }
   ],
   "source": [
    "#Creating a map of the top 10 States with the maximum Applicants for 2016\n",
    "scale = [[0.0, 'rgb(221,221,226)'], [0.2, 'rgb(195,195,202)'],\n",
    "         [0.4, 'rgb(155,175,202)'], [0.6, 'rgb(140,138,185)'],\n",
    "         [0.8, 'rgb(97,82,164)'], [1.0, 'rgb(67,22,128)']]\n",
    "\n",
    "data=[dict(\n",
    "    type='choropleth',\n",
    "    colorscale=scale,\n",
    "    locations = df4['state'],\n",
    "    z = df4['Applicants'],\n",
    "    locationmode = 'USA-states',\n",
    "    hoverinfo='location+z',\n",
    "    marker = dict(line = dict (color = 'rgb(255,255,255)',width = 2)),\n",
    "    colorbar = dict(title = \"Number of applications\"))]\n",
    "\n",
    "layout= dict(title=\"Top 10 2016 H1B VISA APPLICATIONS BY STATE\",\n",
    "            geo = dict(scope='usa',\n",
    "            projection=dict( type='albers usa' ),\n",
    "            showlakes = True,\n",
    "            lakecolor = 'rgb(92, 244, 256)'),\n",
    "             )\n",
    "fig = dict( data=data, layout=layout )\n",
    "iplot(fig)"
   ]
  },
  {
   "cell_type": "code",
   "execution_count": 155,
   "metadata": {},
   "outputs": [],
   "source": [
    "H1B3=H1B.copy()"
   ]
  },
  {
   "cell_type": "code",
   "execution_count": 156,
   "metadata": {},
   "outputs": [
    {
     "data": {
      "text/html": [
       "<div>\n",
       "<style scoped>\n",
       "    .dataframe tbody tr th:only-of-type {\n",
       "        vertical-align: middle;\n",
       "    }\n",
       "\n",
       "    .dataframe tbody tr th {\n",
       "        vertical-align: top;\n",
       "    }\n",
       "\n",
       "    .dataframe thead th {\n",
       "        text-align: right;\n",
       "    }\n",
       "</style>\n",
       "<table border=\"1\" class=\"dataframe\">\n",
       "  <thead>\n",
       "    <tr style=\"text-align: right;\">\n",
       "      <th></th>\n",
       "      <th>Employer Name</th>\n",
       "      <th>Soc Name</th>\n",
       "      <th>Job_Position</th>\n",
       "      <th>Full time</th>\n",
       "      <th>Wage</th>\n",
       "      <th>Year</th>\n",
       "      <th>Work Site</th>\n",
       "      <th>Applicants</th>\n",
       "    </tr>\n",
       "  </thead>\n",
       "  <tbody>\n",
       "    <tr>\n",
       "      <th>2643680</th>\n",
       "      <td>NYFIX, INC.</td>\n",
       "      <td>Computer Software Engineers, Applications</td>\n",
       "      <td>PROJECT MANAGER</td>\n",
       "      <td>Y</td>\n",
       "      <td>101088.0</td>\n",
       "      <td>2011.0</td>\n",
       "      <td>NEW YORK, NEW YORK</td>\n",
       "      <td>1</td>\n",
       "    </tr>\n",
       "    <tr>\n",
       "      <th>2643681</th>\n",
       "      <td>TGS-NOPEC GEOPHYSICAL COMPANY</td>\n",
       "      <td>Computer Software Engineers, Applications</td>\n",
       "      <td>PRINCIPAL TRAINER / DEVELOPMENT ANALYST</td>\n",
       "      <td>Y</td>\n",
       "      <td>77480.0</td>\n",
       "      <td>2011.0</td>\n",
       "      <td>HOUSTON, TEXAS</td>\n",
       "      <td>1</td>\n",
       "    </tr>\n",
       "    <tr>\n",
       "      <th>2643682</th>\n",
       "      <td>AFREN USA, INC.</td>\n",
       "      <td>Engineering Managers</td>\n",
       "      <td>DRILLING MANAGER</td>\n",
       "      <td>Y</td>\n",
       "      <td>165506.0</td>\n",
       "      <td>2011.0</td>\n",
       "      <td>THE WOODLANDS, TEXAS</td>\n",
       "      <td>1</td>\n",
       "    </tr>\n",
       "    <tr>\n",
       "      <th>2643683</th>\n",
       "      <td>BA-INSIGHT, LLC</td>\n",
       "      <td>Computer Support Specialists</td>\n",
       "      <td>TECHNICAL SUPPORT ENGINEER</td>\n",
       "      <td>Y</td>\n",
       "      <td>62358.0</td>\n",
       "      <td>2011.0</td>\n",
       "      <td>BOSTON, MASSACHUSETTS</td>\n",
       "      <td>1</td>\n",
       "    </tr>\n",
       "    <tr>\n",
       "      <th>2643684</th>\n",
       "      <td>NIKE, INC.</td>\n",
       "      <td>Marketing Managers</td>\n",
       "      <td>SENIOR GLOBAL CATEGORY COMMERCE MANAGER</td>\n",
       "      <td>Y</td>\n",
       "      <td>111405.0</td>\n",
       "      <td>2011.0</td>\n",
       "      <td>BEAVERTON, OREGON</td>\n",
       "      <td>1</td>\n",
       "    </tr>\n",
       "  </tbody>\n",
       "</table>\n",
       "</div>"
      ],
      "text/plain": [
       "                         Employer Name  \\\n",
       "2643680                    NYFIX, INC.   \n",
       "2643681  TGS-NOPEC GEOPHYSICAL COMPANY   \n",
       "2643682                AFREN USA, INC.   \n",
       "2643683                BA-INSIGHT, LLC   \n",
       "2643684                     NIKE, INC.   \n",
       "\n",
       "                                          Soc Name  \\\n",
       "2643680  Computer Software Engineers, Applications   \n",
       "2643681  Computer Software Engineers, Applications   \n",
       "2643682                       Engineering Managers   \n",
       "2643683               Computer Support Specialists   \n",
       "2643684                         Marketing Managers   \n",
       "\n",
       "                                    Job_Position Full time      Wage    Year  \\\n",
       "2643680                          PROJECT MANAGER         Y  101088.0  2011.0   \n",
       "2643681  PRINCIPAL TRAINER / DEVELOPMENT ANALYST         Y   77480.0  2011.0   \n",
       "2643682                         DRILLING MANAGER         Y  165506.0  2011.0   \n",
       "2643683               TECHNICAL SUPPORT ENGINEER         Y   62358.0  2011.0   \n",
       "2643684  SENIOR GLOBAL CATEGORY COMMERCE MANAGER         Y  111405.0  2011.0   \n",
       "\n",
       "                     Work Site  Applicants  \n",
       "2643680     NEW YORK, NEW YORK           1  \n",
       "2643681         HOUSTON, TEXAS           1  \n",
       "2643682   THE WOODLANDS, TEXAS           1  \n",
       "2643683  BOSTON, MASSACHUSETTS           1  \n",
       "2643684      BEAVERTON, OREGON           1  "
      ]
     },
     "execution_count": 156,
     "metadata": {},
     "output_type": "execute_result"
    }
   ],
   "source": [
    "#Short listing components of a dataframe to the year 2011 \n",
    "dft=H1B3.loc[(H1B[\"Year\"]==2011)]\n",
    "dft.head()"
   ]
  },
  {
   "cell_type": "code",
   "execution_count": 157,
   "metadata": {},
   "outputs": [
    {
     "data": {
      "text/html": [
       "<div>\n",
       "<style scoped>\n",
       "    .dataframe tbody tr th:only-of-type {\n",
       "        vertical-align: middle;\n",
       "    }\n",
       "\n",
       "    .dataframe tbody tr th {\n",
       "        vertical-align: top;\n",
       "    }\n",
       "\n",
       "    .dataframe thead th {\n",
       "        text-align: right;\n",
       "    }\n",
       "</style>\n",
       "<table border=\"1\" class=\"dataframe\">\n",
       "  <thead>\n",
       "    <tr style=\"text-align: right;\">\n",
       "      <th></th>\n",
       "      <th>Employer Name</th>\n",
       "      <th>Soc Name</th>\n",
       "      <th>Job_Position</th>\n",
       "      <th>Full time</th>\n",
       "      <th>Wage</th>\n",
       "      <th>Year</th>\n",
       "      <th>Work Site</th>\n",
       "      <th>Applicants</th>\n",
       "      <th>City</th>\n",
       "      <th>State</th>\n",
       "    </tr>\n",
       "  </thead>\n",
       "  <tbody>\n",
       "    <tr>\n",
       "      <th>2643680</th>\n",
       "      <td>NYFIX, INC.</td>\n",
       "      <td>Computer Software Engineers, Applications</td>\n",
       "      <td>PROJECT MANAGER</td>\n",
       "      <td>Y</td>\n",
       "      <td>101088.0</td>\n",
       "      <td>2011.0</td>\n",
       "      <td>NEW YORK, NEW YORK</td>\n",
       "      <td>1</td>\n",
       "      <td>NEW YORK</td>\n",
       "      <td>NEW YORK</td>\n",
       "    </tr>\n",
       "    <tr>\n",
       "      <th>2643681</th>\n",
       "      <td>TGS-NOPEC GEOPHYSICAL COMPANY</td>\n",
       "      <td>Computer Software Engineers, Applications</td>\n",
       "      <td>PRINCIPAL TRAINER / DEVELOPMENT ANALYST</td>\n",
       "      <td>Y</td>\n",
       "      <td>77480.0</td>\n",
       "      <td>2011.0</td>\n",
       "      <td>HOUSTON, TEXAS</td>\n",
       "      <td>1</td>\n",
       "      <td>HOUSTON</td>\n",
       "      <td>TEXAS</td>\n",
       "    </tr>\n",
       "    <tr>\n",
       "      <th>2643682</th>\n",
       "      <td>AFREN USA, INC.</td>\n",
       "      <td>Engineering Managers</td>\n",
       "      <td>DRILLING MANAGER</td>\n",
       "      <td>Y</td>\n",
       "      <td>165506.0</td>\n",
       "      <td>2011.0</td>\n",
       "      <td>THE WOODLANDS, TEXAS</td>\n",
       "      <td>1</td>\n",
       "      <td>THE WOODLANDS</td>\n",
       "      <td>TEXAS</td>\n",
       "    </tr>\n",
       "    <tr>\n",
       "      <th>2643683</th>\n",
       "      <td>BA-INSIGHT, LLC</td>\n",
       "      <td>Computer Support Specialists</td>\n",
       "      <td>TECHNICAL SUPPORT ENGINEER</td>\n",
       "      <td>Y</td>\n",
       "      <td>62358.0</td>\n",
       "      <td>2011.0</td>\n",
       "      <td>BOSTON, MASSACHUSETTS</td>\n",
       "      <td>1</td>\n",
       "      <td>BOSTON</td>\n",
       "      <td>MASSACHUSETTS</td>\n",
       "    </tr>\n",
       "    <tr>\n",
       "      <th>2643684</th>\n",
       "      <td>NIKE, INC.</td>\n",
       "      <td>Marketing Managers</td>\n",
       "      <td>SENIOR GLOBAL CATEGORY COMMERCE MANAGER</td>\n",
       "      <td>Y</td>\n",
       "      <td>111405.0</td>\n",
       "      <td>2011.0</td>\n",
       "      <td>BEAVERTON, OREGON</td>\n",
       "      <td>1</td>\n",
       "      <td>BEAVERTON</td>\n",
       "      <td>OREGON</td>\n",
       "    </tr>\n",
       "  </tbody>\n",
       "</table>\n",
       "</div>"
      ],
      "text/plain": [
       "                         Employer Name  \\\n",
       "2643680                    NYFIX, INC.   \n",
       "2643681  TGS-NOPEC GEOPHYSICAL COMPANY   \n",
       "2643682                AFREN USA, INC.   \n",
       "2643683                BA-INSIGHT, LLC   \n",
       "2643684                     NIKE, INC.   \n",
       "\n",
       "                                          Soc Name  \\\n",
       "2643680  Computer Software Engineers, Applications   \n",
       "2643681  Computer Software Engineers, Applications   \n",
       "2643682                       Engineering Managers   \n",
       "2643683               Computer Support Specialists   \n",
       "2643684                         Marketing Managers   \n",
       "\n",
       "                                    Job_Position Full time      Wage    Year  \\\n",
       "2643680                          PROJECT MANAGER         Y  101088.0  2011.0   \n",
       "2643681  PRINCIPAL TRAINER / DEVELOPMENT ANALYST         Y   77480.0  2011.0   \n",
       "2643682                         DRILLING MANAGER         Y  165506.0  2011.0   \n",
       "2643683               TECHNICAL SUPPORT ENGINEER         Y   62358.0  2011.0   \n",
       "2643684  SENIOR GLOBAL CATEGORY COMMERCE MANAGER         Y  111405.0  2011.0   \n",
       "\n",
       "                     Work Site  Applicants           City          State  \n",
       "2643680     NEW YORK, NEW YORK           1       NEW YORK       NEW YORK  \n",
       "2643681         HOUSTON, TEXAS           1        HOUSTON          TEXAS  \n",
       "2643682   THE WOODLANDS, TEXAS           1  THE WOODLANDS          TEXAS  \n",
       "2643683  BOSTON, MASSACHUSETTS           1         BOSTON  MASSACHUSETTS  \n",
       "2643684      BEAVERTON, OREGON           1      BEAVERTON         OREGON  "
      ]
     },
     "execution_count": 157,
     "metadata": {},
     "output_type": "execute_result"
    }
   ],
   "source": [
    "#Recreating a State and City column \n",
    "new1=dft[\"Work Site\"].str.split(\", \", n=1, expand=True)\n",
    "dft[\"City\"] =new1[0]\n",
    "dft[\"State\"]=new1[1]\n",
    "dft.head()"
   ]
  },
  {
   "cell_type": "code",
   "execution_count": 158,
   "metadata": {},
   "outputs": [],
   "source": [
    "dft2011=dft.drop([\"Work Site\"], axis=1)"
   ]
  },
  {
   "cell_type": "code",
   "execution_count": 159,
   "metadata": {},
   "outputs": [],
   "source": [
    "dft5=dft2011.groupby(by=['State']).sum()\n",
    "dft13=dft5.sort_values(\"Applicants\", ascending=False).head(10)"
   ]
  },
  {
   "cell_type": "code",
   "execution_count": 160,
   "metadata": {},
   "outputs": [],
   "source": [
    "dft13=dft13.drop(['Wage','Year' ], axis=1)\n",
    "dft13 = dft13.reset_index()"
   ]
  },
  {
   "cell_type": "code",
   "execution_count": 163,
   "metadata": {},
   "outputs": [],
   "source": [
    "dft13[\"State\"]=list(map(lambda x:x, dft13[\"State\"]))\n",
    "dft13[\"State\"]=dft13['State'].str.title()"
   ]
  },
  {
   "cell_type": "code",
   "execution_count": 164,
   "metadata": {},
   "outputs": [],
   "source": [
    "#Assigning the State column to state\n",
    "dft13['state'] = dft13['State'].apply(lambda x : state[x])"
   ]
  },
  {
   "cell_type": "code",
   "execution_count": 165,
   "metadata": {},
   "outputs": [
    {
     "data": {
      "application/vnd.plotly.v1+json": {
       "config": {
        "linkText": "Export to plot.ly",
        "plotlyServerURL": "https://plot.ly",
        "showLink": false
       },
       "data": [
        {
         "colorbar": {
          "title": {
           "text": "Number of applications"
          }
         },
         "hoverinfo": "location+z",
         "locationmode": "USA-states",
         "locations": [
          "CA",
          "NY",
          "TX",
          "NJ",
          "IL",
          "FL",
          "MA",
          "PA",
          "WA",
          "VA"
         ],
         "marker": {
          "line": {
           "color": "rgb(255,255,255)",
           "width": 2
          }
         },
         "type": "choropleth",
         "uid": "c266ef71-38a0-4b4e-b38c-24ef7214500a",
         "z": [
          63140,
          39901,
          29946,
          22044,
          17400,
          14023,
          13833,
          11654,
          10933,
          10425
         ]
        }
       ],
       "layout": {
        "geo": {
         "lakecolor": "rgb(82, 232, 242)",
         "projection": {
          "type": "albers usa"
         },
         "scope": "usa",
         "showlakes": true
        },
        "title": {
         "text": "Top 10 2011 H1B VISA APPLICATIONS BY STATE"
        }
       }
      },
      "text/html": [
       "<div id=\"87491e34-ec86-4b91-a1c1-982301c77183\" style=\"height: 525px; width: 100%;\" class=\"plotly-graph-div\"></div><script type=\"text/javascript\">require([\"plotly\"], function(Plotly) { window.PLOTLYENV=window.PLOTLYENV || {};window.PLOTLYENV.BASE_URL=\"https://plot.ly\";\n",
       "if (document.getElementById(\"87491e34-ec86-4b91-a1c1-982301c77183\")) {\n",
       "    Plotly.newPlot(\"87491e34-ec86-4b91-a1c1-982301c77183\", [{\"colorbar\": {\"title\": {\"text\": \"Number of applications\"}}, \"hoverinfo\": \"location+z\", \"locationmode\": \"USA-states\", \"locations\": [\"CA\", \"NY\", \"TX\", \"NJ\", \"IL\", \"FL\", \"MA\", \"PA\", \"WA\", \"VA\"], \"marker\": {\"line\": {\"color\": \"rgb(255,255,255)\", \"width\": 2}}, \"z\": [63140, 39901, 29946, 22044, 17400, 14023, 13833, 11654, 10933, 10425], \"type\": \"choropleth\", \"uid\": \"56a0949f-72c1-4c67-9b45-6f483b3e1905\"}], {\"geo\": {\"lakecolor\": \"rgb(82, 232, 242)\", \"projection\": {\"type\": \"albers usa\"}, \"scope\": \"usa\", \"showlakes\": true}, \"title\": {\"text\": \"Top 10 2011 H1B VISA APPLICATIONS BY STATE\"}}, {\"showLink\": false, \"linkText\": \"Export to plot.ly\", \"plotlyServerURL\": \"https://plot.ly\"}); \n",
       "}\n",
       "});</script><script type=\"text/javascript\">window.addEventListener(\"resize\", function(){if (document.getElementById(\"87491e34-ec86-4b91-a1c1-982301c77183\")) {window._Plotly.Plots.resize(document.getElementById(\"87491e34-ec86-4b91-a1c1-982301c77183\"));};})</script>"
      ],
      "text/vnd.plotly.v1+html": [
       "<div id=\"87491e34-ec86-4b91-a1c1-982301c77183\" style=\"height: 525px; width: 100%;\" class=\"plotly-graph-div\"></div><script type=\"text/javascript\">require([\"plotly\"], function(Plotly) { window.PLOTLYENV=window.PLOTLYENV || {};window.PLOTLYENV.BASE_URL=\"https://plot.ly\";\n",
       "if (document.getElementById(\"87491e34-ec86-4b91-a1c1-982301c77183\")) {\n",
       "    Plotly.newPlot(\"87491e34-ec86-4b91-a1c1-982301c77183\", [{\"colorbar\": {\"title\": {\"text\": \"Number of applications\"}}, \"hoverinfo\": \"location+z\", \"locationmode\": \"USA-states\", \"locations\": [\"CA\", \"NY\", \"TX\", \"NJ\", \"IL\", \"FL\", \"MA\", \"PA\", \"WA\", \"VA\"], \"marker\": {\"line\": {\"color\": \"rgb(255,255,255)\", \"width\": 2}}, \"z\": [63140, 39901, 29946, 22044, 17400, 14023, 13833, 11654, 10933, 10425], \"type\": \"choropleth\", \"uid\": \"56a0949f-72c1-4c67-9b45-6f483b3e1905\"}], {\"geo\": {\"lakecolor\": \"rgb(82, 232, 242)\", \"projection\": {\"type\": \"albers usa\"}, \"scope\": \"usa\", \"showlakes\": true}, \"title\": {\"text\": \"Top 10 2011 H1B VISA APPLICATIONS BY STATE\"}}, {\"showLink\": false, \"linkText\": \"Export to plot.ly\", \"plotlyServerURL\": \"https://plot.ly\"}); \n",
       "}\n",
       "});</script><script type=\"text/javascript\">window.addEventListener(\"resize\", function(){if (document.getElementById(\"87491e34-ec86-4b91-a1c1-982301c77183\")) {window._Plotly.Plots.resize(document.getElementById(\"87491e34-ec86-4b91-a1c1-982301c77183\"));};})</script>"
      ]
     },
     "metadata": {},
     "output_type": "display_data"
    }
   ],
   "source": [
    "#Mapping the top 10 States with the highest H1B Applicants in 2011\n",
    "data=[dict(\n",
    "    type='choropleth',\n",
    "    locations = dft13['state'],\n",
    "    z = dft13['Applicants'],\n",
    "    locationmode = 'USA-states',\n",
    "    hoverinfo='location+z',\n",
    "    marker = dict(line = dict (color = 'rgb(255,255,255)',width = 2)),\n",
    "    colorbar = dict(title = \"Number of applications\"))]\n",
    "\n",
    "layout= dict(title=\"Top 10 2011 H1B VISA APPLICATIONS BY STATE\",\n",
    "            geo = dict(scope='usa',\n",
    "            projection=dict( type='albers usa' ),\n",
    "            showlakes = True,\n",
    "            lakecolor = 'rgb(82, 232, 242)'),\n",
    "             )\n",
    "fig = dict( data=data, layout=layout )\n",
    "iplot(fig)"
   ]
  },
  {
   "cell_type": "code",
   "execution_count": 137,
   "metadata": {},
   "outputs": [],
   "source": [
    "#Based on 2016 job titles and Applicants\n",
    "#dfjt = df.groupby('JOB_TITLE',as_index=False).count()[['JOB_TITLE','Applicants']].sort_values\n",
    "#('Applicants',ascending=False)[0:20]\n",
    "dfj=df.groupby(by=['Job_Position']).sum()\n",
    "dfjt=dfj.sort_values(\"Applicants\", ascending=False)[0:10]"
   ]
  },
  {
   "cell_type": "code",
   "execution_count": 138,
   "metadata": {},
   "outputs": [
    {
     "data": {
      "text/html": [
       "<div>\n",
       "<style scoped>\n",
       "    .dataframe tbody tr th:only-of-type {\n",
       "        vertical-align: middle;\n",
       "    }\n",
       "\n",
       "    .dataframe tbody tr th {\n",
       "        vertical-align: top;\n",
       "    }\n",
       "\n",
       "    .dataframe thead th {\n",
       "        text-align: right;\n",
       "    }\n",
       "</style>\n",
       "<table border=\"1\" class=\"dataframe\">\n",
       "  <thead>\n",
       "    <tr style=\"text-align: right;\">\n",
       "      <th></th>\n",
       "      <th>Job_Position</th>\n",
       "      <th>Applicants</th>\n",
       "    </tr>\n",
       "  </thead>\n",
       "  <tbody>\n",
       "    <tr>\n",
       "      <th>0</th>\n",
       "      <td>PROGRAMMER ANALYST</td>\n",
       "      <td>52890</td>\n",
       "    </tr>\n",
       "    <tr>\n",
       "      <th>1</th>\n",
       "      <td>SOFTWARE ENGINEER</td>\n",
       "      <td>30330</td>\n",
       "    </tr>\n",
       "    <tr>\n",
       "      <th>2</th>\n",
       "      <td>SOFTWARE DEVELOPER</td>\n",
       "      <td>13771</td>\n",
       "    </tr>\n",
       "    <tr>\n",
       "      <th>3</th>\n",
       "      <td>SYSTEMS ANALYST</td>\n",
       "      <td>12111</td>\n",
       "    </tr>\n",
       "    <tr>\n",
       "      <th>4</th>\n",
       "      <td>COMPUTER PROGRAMMER</td>\n",
       "      <td>11448</td>\n",
       "    </tr>\n",
       "    <tr>\n",
       "      <th>5</th>\n",
       "      <td>BUSINESS ANALYST</td>\n",
       "      <td>9011</td>\n",
       "    </tr>\n",
       "    <tr>\n",
       "      <th>6</th>\n",
       "      <td>COMPUTER SYSTEMS ANALYST</td>\n",
       "      <td>6763</td>\n",
       "    </tr>\n",
       "    <tr>\n",
       "      <th>7</th>\n",
       "      <td>SENIOR SOFTWARE ENGINEER</td>\n",
       "      <td>6386</td>\n",
       "    </tr>\n",
       "    <tr>\n",
       "      <th>8</th>\n",
       "      <td>DEVELOPER</td>\n",
       "      <td>6030</td>\n",
       "    </tr>\n",
       "    <tr>\n",
       "      <th>9</th>\n",
       "      <td>TECHNOLOGY LEAD - US</td>\n",
       "      <td>5403</td>\n",
       "    </tr>\n",
       "  </tbody>\n",
       "</table>\n",
       "</div>"
      ],
      "text/plain": [
       "               Job_Position  Applicants\n",
       "0        PROGRAMMER ANALYST       52890\n",
       "1         SOFTWARE ENGINEER       30330\n",
       "2        SOFTWARE DEVELOPER       13771\n",
       "3           SYSTEMS ANALYST       12111\n",
       "4       COMPUTER PROGRAMMER       11448\n",
       "5          BUSINESS ANALYST        9011\n",
       "6  COMPUTER SYSTEMS ANALYST        6763\n",
       "7  SENIOR SOFTWARE ENGINEER        6386\n",
       "8                 DEVELOPER        6030\n",
       "9      TECHNOLOGY LEAD - US        5403"
      ]
     },
     "execution_count": 138,
     "metadata": {},
     "output_type": "execute_result"
    }
   ],
   "source": [
    "dfj1=dfjt.drop(['Wage', 'Year'], axis=1)\n",
    "dfj2 = dfj1.reset_index()\n",
    "dfj2"
   ]
  },
  {
   "cell_type": "code",
   "execution_count": 139,
   "metadata": {},
   "outputs": [
    {
     "data": {
      "application/vnd.plotly.v1+json": {
       "config": {
        "linkText": "Export to plot.ly",
        "plotlyServerURL": "https://plot.ly",
        "showLink": false
       },
       "data": [
        {
         "type": "bar",
         "uid": "975c0ca8-24ce-45b2-aaf3-1465ead07566",
         "x": [
          "PROGRAMMER ANALYST",
          "SOFTWARE ENGINEER",
          "SOFTWARE DEVELOPER",
          "SYSTEMS ANALYST",
          "COMPUTER PROGRAMMER",
          "BUSINESS ANALYST",
          "COMPUTER SYSTEMS ANALYST",
          "SENIOR SOFTWARE ENGINEER",
          "DEVELOPER",
          "TECHNOLOGY LEAD - US"
         ],
         "y": [
          52890,
          30330,
          13771,
          12111,
          11448,
          9011,
          6763,
          6386,
          6030,
          5403
         ]
        }
       ],
       "layout": {
        "title": {
         "text": "Top 10 Positions based on Number of Applicants in 2016"
        },
        "yaxis": {
         "title": {
          "text": "Num of applications"
         }
        }
       }
      },
      "text/html": [
       "<div id=\"fe459dae-495d-46a6-a8e3-18fe3bed2434\" style=\"height: 525px; width: 100%;\" class=\"plotly-graph-div\"></div><script type=\"text/javascript\">require([\"plotly\"], function(Plotly) { window.PLOTLYENV=window.PLOTLYENV || {};window.PLOTLYENV.BASE_URL=\"https://plot.ly\";\n",
       "if (document.getElementById(\"fe459dae-495d-46a6-a8e3-18fe3bed2434\")) {\n",
       "    Plotly.newPlot(\"fe459dae-495d-46a6-a8e3-18fe3bed2434\", [{\"x\": [\"PROGRAMMER ANALYST\", \"SOFTWARE ENGINEER\", \"SOFTWARE DEVELOPER\", \"SYSTEMS ANALYST\", \"COMPUTER PROGRAMMER\", \"BUSINESS ANALYST\", \"COMPUTER SYSTEMS ANALYST\", \"SENIOR SOFTWARE ENGINEER\", \"DEVELOPER\", \"TECHNOLOGY LEAD - US\"], \"y\": [52890, 30330, 13771, 12111, 11448, 9011, 6763, 6386, 6030, 5403], \"type\": \"bar\", \"uid\": \"975c0ca8-24ce-45b2-aaf3-1465ead07566\"}], {\"title\": {\"text\": \"Top 10 Positions based on Number of Applicants in 2016\"}, \"yaxis\": {\"title\": {\"text\": \"Num of applications\"}}}, {\"showLink\": false, \"linkText\": \"Export to plot.ly\", \"plotlyServerURL\": \"https://plot.ly\"}); \n",
       "}\n",
       "});</script><script type=\"text/javascript\">window.addEventListener(\"resize\", function(){if (document.getElementById(\"fe459dae-495d-46a6-a8e3-18fe3bed2434\")) {window._Plotly.Plots.resize(document.getElementById(\"fe459dae-495d-46a6-a8e3-18fe3bed2434\"));};})</script>"
      ],
      "text/vnd.plotly.v1+html": [
       "<div id=\"fe459dae-495d-46a6-a8e3-18fe3bed2434\" style=\"height: 525px; width: 100%;\" class=\"plotly-graph-div\"></div><script type=\"text/javascript\">require([\"plotly\"], function(Plotly) { window.PLOTLYENV=window.PLOTLYENV || {};window.PLOTLYENV.BASE_URL=\"https://plot.ly\";\n",
       "if (document.getElementById(\"fe459dae-495d-46a6-a8e3-18fe3bed2434\")) {\n",
       "    Plotly.newPlot(\"fe459dae-495d-46a6-a8e3-18fe3bed2434\", [{\"x\": [\"PROGRAMMER ANALYST\", \"SOFTWARE ENGINEER\", \"SOFTWARE DEVELOPER\", \"SYSTEMS ANALYST\", \"COMPUTER PROGRAMMER\", \"BUSINESS ANALYST\", \"COMPUTER SYSTEMS ANALYST\", \"SENIOR SOFTWARE ENGINEER\", \"DEVELOPER\", \"TECHNOLOGY LEAD - US\"], \"y\": [52890, 30330, 13771, 12111, 11448, 9011, 6763, 6386, 6030, 5403], \"type\": \"bar\", \"uid\": \"975c0ca8-24ce-45b2-aaf3-1465ead07566\"}], {\"title\": {\"text\": \"Top 10 Positions based on Number of Applicants in 2016\"}, \"yaxis\": {\"title\": {\"text\": \"Num of applications\"}}}, {\"showLink\": false, \"linkText\": \"Export to plot.ly\", \"plotlyServerURL\": \"https://plot.ly\"}); \n",
       "}\n",
       "});</script><script type=\"text/javascript\">window.addEventListener(\"resize\", function(){if (document.getElementById(\"fe459dae-495d-46a6-a8e3-18fe3bed2434\")) {window._Plotly.Plots.resize(document.getElementById(\"fe459dae-495d-46a6-a8e3-18fe3bed2434\"));};})</script>"
      ]
     },
     "metadata": {},
     "output_type": "display_data"
    }
   ],
   "source": [
    "\n",
    "dfj3 = go.Bar(x=dfj2.Job_Position.values,y=dfj2.Applicants.values)\n",
    "Plot = go.Layout(dict(title= \"Top 10 Positions based on Number of Applicants in 2016\",yaxis=dict(title=\"Num of applications\")))\n",
    "\n",
    "job = [dfj3]\n",
    "jobt =go.Figure(job,Plot)\n",
    "iplot(jobt)"
   ]
  },
  {
   "cell_type": "code",
   "execution_count": 140,
   "metadata": {},
   "outputs": [],
   "source": [
    "#Based on 2011 job titles and applicants\n",
    "dfjt2011=dft.groupby(by=['Job_Position']).sum()\n",
    "dfjt2011=dfjt2011.sort_values(\"Applicants\", ascending=False)[0:10]"
   ]
  },
  {
   "cell_type": "code",
   "execution_count": 141,
   "metadata": {},
   "outputs": [
    {
     "data": {
      "text/html": [
       "<div>\n",
       "<style scoped>\n",
       "    .dataframe tbody tr th:only-of-type {\n",
       "        vertical-align: middle;\n",
       "    }\n",
       "\n",
       "    .dataframe tbody tr th {\n",
       "        vertical-align: top;\n",
       "    }\n",
       "\n",
       "    .dataframe thead th {\n",
       "        text-align: right;\n",
       "    }\n",
       "</style>\n",
       "<table border=\"1\" class=\"dataframe\">\n",
       "  <thead>\n",
       "    <tr style=\"text-align: right;\">\n",
       "      <th></th>\n",
       "      <th>Job_Position</th>\n",
       "      <th>Applicants</th>\n",
       "    </tr>\n",
       "  </thead>\n",
       "  <tbody>\n",
       "    <tr>\n",
       "      <th>0</th>\n",
       "      <td>PROGRAMMER ANALYST</td>\n",
       "      <td>29868</td>\n",
       "    </tr>\n",
       "    <tr>\n",
       "      <th>1</th>\n",
       "      <td>SOFTWARE ENGINEER</td>\n",
       "      <td>12263</td>\n",
       "    </tr>\n",
       "    <tr>\n",
       "      <th>2</th>\n",
       "      <td>SYSTEMS ANALYST</td>\n",
       "      <td>8358</td>\n",
       "    </tr>\n",
       "    <tr>\n",
       "      <th>3</th>\n",
       "      <td>COMPUTER PROGRAMMER</td>\n",
       "      <td>8210</td>\n",
       "    </tr>\n",
       "    <tr>\n",
       "      <th>4</th>\n",
       "      <td>BUSINESS ANALYST</td>\n",
       "      <td>3760</td>\n",
       "    </tr>\n",
       "    <tr>\n",
       "      <th>5</th>\n",
       "      <td>COMPUTER SYSTEMS ANALYST</td>\n",
       "      <td>3443</td>\n",
       "    </tr>\n",
       "    <tr>\n",
       "      <th>6</th>\n",
       "      <td>ASSISTANT PROFESSOR</td>\n",
       "      <td>3307</td>\n",
       "    </tr>\n",
       "    <tr>\n",
       "      <th>7</th>\n",
       "      <td>SENIOR SOFTWARE ENGINEER</td>\n",
       "      <td>2806</td>\n",
       "    </tr>\n",
       "    <tr>\n",
       "      <th>8</th>\n",
       "      <td>SENIOR CONSULTANT</td>\n",
       "      <td>2541</td>\n",
       "    </tr>\n",
       "    <tr>\n",
       "      <th>9</th>\n",
       "      <td>RESEARCH ASSOCIATE</td>\n",
       "      <td>2390</td>\n",
       "    </tr>\n",
       "  </tbody>\n",
       "</table>\n",
       "</div>"
      ],
      "text/plain": [
       "               Job_Position  Applicants\n",
       "0        PROGRAMMER ANALYST       29868\n",
       "1         SOFTWARE ENGINEER       12263\n",
       "2           SYSTEMS ANALYST        8358\n",
       "3       COMPUTER PROGRAMMER        8210\n",
       "4          BUSINESS ANALYST        3760\n",
       "5  COMPUTER SYSTEMS ANALYST        3443\n",
       "6       ASSISTANT PROFESSOR        3307\n",
       "7  SENIOR SOFTWARE ENGINEER        2806\n",
       "8         SENIOR CONSULTANT        2541\n",
       "9        RESEARCH ASSOCIATE        2390"
      ]
     },
     "execution_count": 141,
     "metadata": {},
     "output_type": "execute_result"
    }
   ],
   "source": [
    "#Dropping the unnecessary columns and resetting the index\n",
    "dfj2011=dfjt2011.drop(['Wage','Year'], axis=1)\n",
    "dfj2011= dfj2011.reset_index()\n",
    "dfj2011"
   ]
  },
  {
   "cell_type": "code",
   "execution_count": 142,
   "metadata": {},
   "outputs": [
    {
     "data": {
      "application/vnd.plotly.v1+json": {
       "config": {
        "linkText": "Export to plot.ly",
        "plotlyServerURL": "https://plot.ly",
        "showLink": false
       },
       "data": [
        {
         "type": "bar",
         "uid": "89b8b5f7-0f38-493f-8ef6-c5413bd3203f",
         "x": [
          "PROGRAMMER ANALYST",
          "SOFTWARE ENGINEER",
          "SYSTEMS ANALYST",
          "COMPUTER PROGRAMMER",
          "BUSINESS ANALYST",
          "COMPUTER SYSTEMS ANALYST",
          "ASSISTANT PROFESSOR",
          "SENIOR SOFTWARE ENGINEER",
          "SENIOR CONSULTANT",
          "RESEARCH ASSOCIATE"
         ],
         "y": [
          29868,
          12263,
          8358,
          8210,
          3760,
          3443,
          3307,
          2806,
          2541,
          2390
         ]
        }
       ],
       "layout": {
        "title": {
         "text": "Top 10 Positions based on Number of Applicants in 2011"
        },
        "yaxis": {
         "title": {
          "text": "Num of applications"
         }
        }
       }
      },
      "text/html": [
       "<div id=\"de04b223-4aac-4ee1-94c5-8b0c5053fa49\" style=\"height: 525px; width: 100%;\" class=\"plotly-graph-div\"></div><script type=\"text/javascript\">require([\"plotly\"], function(Plotly) { window.PLOTLYENV=window.PLOTLYENV || {};window.PLOTLYENV.BASE_URL=\"https://plot.ly\";\n",
       "if (document.getElementById(\"de04b223-4aac-4ee1-94c5-8b0c5053fa49\")) {\n",
       "    Plotly.newPlot(\"de04b223-4aac-4ee1-94c5-8b0c5053fa49\", [{\"x\": [\"PROGRAMMER ANALYST\", \"SOFTWARE ENGINEER\", \"SYSTEMS ANALYST\", \"COMPUTER PROGRAMMER\", \"BUSINESS ANALYST\", \"COMPUTER SYSTEMS ANALYST\", \"ASSISTANT PROFESSOR\", \"SENIOR SOFTWARE ENGINEER\", \"SENIOR CONSULTANT\", \"RESEARCH ASSOCIATE\"], \"y\": [29868, 12263, 8358, 8210, 3760, 3443, 3307, 2806, 2541, 2390], \"type\": \"bar\", \"uid\": \"89b8b5f7-0f38-493f-8ef6-c5413bd3203f\"}], {\"title\": {\"text\": \"Top 10 Positions based on Number of Applicants in 2011\"}, \"yaxis\": {\"title\": {\"text\": \"Num of applications\"}}}, {\"showLink\": false, \"linkText\": \"Export to plot.ly\", \"plotlyServerURL\": \"https://plot.ly\"}); \n",
       "}\n",
       "});</script><script type=\"text/javascript\">window.addEventListener(\"resize\", function(){if (document.getElementById(\"de04b223-4aac-4ee1-94c5-8b0c5053fa49\")) {window._Plotly.Plots.resize(document.getElementById(\"de04b223-4aac-4ee1-94c5-8b0c5053fa49\"));};})</script>"
      ],
      "text/vnd.plotly.v1+html": [
       "<div id=\"de04b223-4aac-4ee1-94c5-8b0c5053fa49\" style=\"height: 525px; width: 100%;\" class=\"plotly-graph-div\"></div><script type=\"text/javascript\">require([\"plotly\"], function(Plotly) { window.PLOTLYENV=window.PLOTLYENV || {};window.PLOTLYENV.BASE_URL=\"https://plot.ly\";\n",
       "if (document.getElementById(\"de04b223-4aac-4ee1-94c5-8b0c5053fa49\")) {\n",
       "    Plotly.newPlot(\"de04b223-4aac-4ee1-94c5-8b0c5053fa49\", [{\"x\": [\"PROGRAMMER ANALYST\", \"SOFTWARE ENGINEER\", \"SYSTEMS ANALYST\", \"COMPUTER PROGRAMMER\", \"BUSINESS ANALYST\", \"COMPUTER SYSTEMS ANALYST\", \"ASSISTANT PROFESSOR\", \"SENIOR SOFTWARE ENGINEER\", \"SENIOR CONSULTANT\", \"RESEARCH ASSOCIATE\"], \"y\": [29868, 12263, 8358, 8210, 3760, 3443, 3307, 2806, 2541, 2390], \"type\": \"bar\", \"uid\": \"89b8b5f7-0f38-493f-8ef6-c5413bd3203f\"}], {\"title\": {\"text\": \"Top 10 Positions based on Number of Applicants in 2011\"}, \"yaxis\": {\"title\": {\"text\": \"Num of applications\"}}}, {\"showLink\": false, \"linkText\": \"Export to plot.ly\", \"plotlyServerURL\": \"https://plot.ly\"}); \n",
       "}\n",
       "});</script><script type=\"text/javascript\">window.addEventListener(\"resize\", function(){if (document.getElementById(\"de04b223-4aac-4ee1-94c5-8b0c5053fa49\")) {window._Plotly.Plots.resize(document.getElementById(\"de04b223-4aac-4ee1-94c5-8b0c5053fa49\"));};})</script>"
      ]
     },
     "metadata": {},
     "output_type": "display_data"
    }
   ],
   "source": [
    "#Hover map with the top 10 highest applicants for H1Bs in 2011\n",
    "#Hover map with the top 10 highest applicants for H1Bs in 2016\n",
    "dfjt12011 = go.Bar(x=dfj2011.Job_Position.values,y=dfj2011.Applicants.values)\n",
    "Plot = go.Layout(dict(title= \"Top 10 Positions based on Number of Applicants in 2011\",yaxis=dict(title=\n",
    "                                                                                                 \"Num of applications\")))\n",
    "\n",
    "job2011 = [dfjt12011]\n",
    "jobt2011 =go.Figure(job2011,Plot)\n",
    "iplot(jobt2011)"
   ]
  },
  {
   "cell_type": "code",
   "execution_count": 143,
   "metadata": {},
   "outputs": [
    {
     "data": {
      "text/html": [
       "<div>\n",
       "<style scoped>\n",
       "    .dataframe tbody tr th:only-of-type {\n",
       "        vertical-align: middle;\n",
       "    }\n",
       "\n",
       "    .dataframe tbody tr th {\n",
       "        vertical-align: top;\n",
       "    }\n",
       "\n",
       "    .dataframe thead th {\n",
       "        text-align: right;\n",
       "    }\n",
       "</style>\n",
       "<table border=\"1\" class=\"dataframe\">\n",
       "  <thead>\n",
       "    <tr style=\"text-align: right;\">\n",
       "      <th></th>\n",
       "      <th>State</th>\n",
       "      <th>Wage</th>\n",
       "    </tr>\n",
       "  </thead>\n",
       "  <tbody>\n",
       "    <tr>\n",
       "      <th>0</th>\n",
       "      <td>NEW MEXICO</td>\n",
       "      <td>702890.937421</td>\n",
       "    </tr>\n",
       "    <tr>\n",
       "      <th>1</th>\n",
       "      <td>KANSAS</td>\n",
       "      <td>575756.655183</td>\n",
       "    </tr>\n",
       "    <tr>\n",
       "      <th>2</th>\n",
       "      <td>SOUTH DAKOTA</td>\n",
       "      <td>543404.245985</td>\n",
       "    </tr>\n",
       "    <tr>\n",
       "      <th>3</th>\n",
       "      <td>ALABAMA</td>\n",
       "      <td>328635.849270</td>\n",
       "    </tr>\n",
       "    <tr>\n",
       "      <th>4</th>\n",
       "      <td>ARIZONA</td>\n",
       "      <td>274940.239828</td>\n",
       "    </tr>\n",
       "    <tr>\n",
       "      <th>5</th>\n",
       "      <td>UTAH</td>\n",
       "      <td>274021.952565</td>\n",
       "    </tr>\n",
       "    <tr>\n",
       "      <th>6</th>\n",
       "      <td>OKLAHOMA</td>\n",
       "      <td>266557.303145</td>\n",
       "    </tr>\n",
       "    <tr>\n",
       "      <th>7</th>\n",
       "      <td>MASSACHUSETTS</td>\n",
       "      <td>253773.139430</td>\n",
       "    </tr>\n",
       "    <tr>\n",
       "      <th>8</th>\n",
       "      <td>NEW JERSEY</td>\n",
       "      <td>235463.005504</td>\n",
       "    </tr>\n",
       "    <tr>\n",
       "      <th>9</th>\n",
       "      <td>VIRGINIA</td>\n",
       "      <td>234104.702275</td>\n",
       "    </tr>\n",
       "  </tbody>\n",
       "</table>\n",
       "</div>"
      ],
      "text/plain": [
       "           State           Wage\n",
       "0     NEW MEXICO  702890.937421\n",
       "1         KANSAS  575756.655183\n",
       "2   SOUTH DAKOTA  543404.245985\n",
       "3        ALABAMA  328635.849270\n",
       "4        ARIZONA  274940.239828\n",
       "5           UTAH  274021.952565\n",
       "6       OKLAHOMA  266557.303145\n",
       "7  MASSACHUSETTS  253773.139430\n",
       "8     NEW JERSEY  235463.005504\n",
       "9       VIRGINIA  234104.702275"
      ]
     },
     "execution_count": 143,
     "metadata": {},
     "output_type": "execute_result"
    }
   ],
   "source": [
    "#Highest Average wage of H1B employees based on top 10 States in 2016\n",
    "df201=dft.groupby(by=['State']).mean()\n",
    "df201=df201.drop(['Year','Applicants' ]\n",
    "                  , axis=1)\n",
    "df301=df201.sort_values(\"Wage\", ascending=False).head(10)\n",
    "df301=df301.reset_index()\n",
    "df301"
   ]
  },
  {
   "cell_type": "code",
   "execution_count": 144,
   "metadata": {},
   "outputs": [],
   "source": [
    "# Highest Average Wages in 2011 by State\n",
    "Wage101=df.groupby(by=['State']).mean()\n",
    "Wage101=Wage101.drop(['Year','Applicants' ], axis=1)\n",
    "Wages101=Wage101.sort_values(\"Wage\", ascending=False)"
   ]
  },
  {
   "cell_type": "code",
   "execution_count": 145,
   "metadata": {},
   "outputs": [
    {
     "data": {
      "text/html": [
       "<div>\n",
       "<style scoped>\n",
       "    .dataframe tbody tr th:only-of-type {\n",
       "        vertical-align: middle;\n",
       "    }\n",
       "\n",
       "    .dataframe tbody tr th {\n",
       "        vertical-align: top;\n",
       "    }\n",
       "\n",
       "    .dataframe thead th {\n",
       "        text-align: right;\n",
       "    }\n",
       "</style>\n",
       "<table border=\"1\" class=\"dataframe\">\n",
       "  <thead>\n",
       "    <tr style=\"text-align: right;\">\n",
       "      <th></th>\n",
       "      <th>Wage</th>\n",
       "    </tr>\n",
       "    <tr>\n",
       "      <th>State</th>\n",
       "      <th></th>\n",
       "    </tr>\n",
       "  </thead>\n",
       "  <tbody>\n",
       "    <tr>\n",
       "      <th>NEW MEXICO</th>\n",
       "      <td>70858.234305</td>\n",
       "    </tr>\n",
       "    <tr>\n",
       "      <th>KANSAS</th>\n",
       "      <td>66103.001593</td>\n",
       "    </tr>\n",
       "    <tr>\n",
       "      <th>SOUTH DAKOTA</th>\n",
       "      <td>391515.049498</td>\n",
       "    </tr>\n",
       "    <tr>\n",
       "      <th>ALABAMA</th>\n",
       "      <td>138083.813486</td>\n",
       "    </tr>\n",
       "    <tr>\n",
       "      <th>ARIZONA</th>\n",
       "      <td>102859.476030</td>\n",
       "    </tr>\n",
       "    <tr>\n",
       "      <th>UTAH</th>\n",
       "      <td>100483.683035</td>\n",
       "    </tr>\n",
       "    <tr>\n",
       "      <th>OKLAHOMA</th>\n",
       "      <td>59242.845821</td>\n",
       "    </tr>\n",
       "    <tr>\n",
       "      <th>MASSACHUSETTS</th>\n",
       "      <td>74897.666804</td>\n",
       "    </tr>\n",
       "    <tr>\n",
       "      <th>NEW JERSEY</th>\n",
       "      <td>85593.989268</td>\n",
       "    </tr>\n",
       "    <tr>\n",
       "      <th>VIRGINIA</th>\n",
       "      <td>72360.771528</td>\n",
       "    </tr>\n",
       "  </tbody>\n",
       "</table>\n",
       "</div>"
      ],
      "text/plain": [
       "                        Wage\n",
       "State                       \n",
       "NEW MEXICO      70858.234305\n",
       "KANSAS          66103.001593\n",
       "SOUTH DAKOTA   391515.049498\n",
       "ALABAMA        138083.813486\n",
       "ARIZONA        102859.476030\n",
       "UTAH           100483.683035\n",
       "OKLAHOMA        59242.845821\n",
       "MASSACHUSETTS   74897.666804\n",
       "NEW JERSEY      85593.989268\n",
       "VIRGINIA        72360.771528"
      ]
     },
     "execution_count": 145,
     "metadata": {},
     "output_type": "execute_result"
    }
   ],
   "source": [
    "#Comparing the average wages of H1B employees in the top 10 States with its 2011 figures\n",
    "Wages2011= Wage101.loc[[\"NEW MEXICO\",\n",
    "\"KANSAS\",\"SOUTH DAKOTA\",\"ALABAMA\",\"ARIZONA\",\"UTAH\",\"OKLAHOMA\",\"MASSACHUSETTS\",\"NEW JERSEY\",\"VIRGINIA\"],]\n",
    "Wages2011"
   ]
  },
  {
   "cell_type": "code",
   "execution_count": 146,
   "metadata": {},
   "outputs": [
    {
     "data": {
      "text/html": [
       "<iframe id=\"igraph\" scrolling=\"no\" style=\"border:none;\" seamless=\"seamless\" src=\"https://plot.ly/~Rashmi62/6.embed\" height=\"525px\" width=\"100%\"></iframe>"
      ],
      "text/plain": [
       "<plotly.tools.PlotlyDisplay object>"
      ]
     },
     "execution_count": 146,
     "metadata": {},
     "output_type": "execute_result"
    }
   ],
   "source": [
    "#Drawing a comparison between the top 10 Average wages by State in 2016 with its 2011 figures using plotly\n",
    "Year2016 = go.Bar(\n",
    "    x=[\"NEW MEXICO\",\n",
    "\"KANSAS\",\"SOUTH DAKOTA\",\"ALABAMA\",\"ARIZONA\",\"UTAH\",\"OKLAHOMA\",\"MASSACHUSETTS\",\"NEW JERSEY\",\"VIRGINIA\"],\n",
    "    y=[702890.937421,575756.655183,543404.245985,328635.849270,274940.239828,274021.952565,266557.303145,253773.139430,\n",
    "       235463.005504,234104.702275],\n",
    "    name='2016 Average Wages',\n",
    "    marker=dict(\n",
    "        color='rgb(55,128,174)'\n",
    "    )\n",
    ")\n",
    "Year2011 = go.Bar(\n",
    "    x=[\"NEW MEXICO\",\"KANSAS\",\"SOUTH DAKOTA\",\"ALABAMA\",\"ARIZONA\",\"UTAH\",\"OKLAHOMA\",\"MASSACHUSETTS\",\"NEW JERSEY\",\n",
    "\"VIRGINIA\"],\n",
    "    y=[70858.234305,66103.001593,391515.049498,138083.813486,102859.476030,100483.683035,59242.845821,74897.666804,\n",
    "       85593.989268,72360.771528],\n",
    "    name='2011 Average Wages',\n",
    "    marker=dict(\n",
    "        color='rgb(190,190,202)',\n",
    "    )\n",
    ")\n",
    "\n",
    "data = [Year2016, Year2011]\n",
    "layout = go.Layout(\n",
    "    xaxis=dict(tickangle=-39),\n",
    "    barmode='group',\n",
    ")\n",
    "\n",
    "fig = go.Figure(data=data, layout=layout)\n",
    "py.iplot(fig, filename='Wage Bars')"
   ]
  },
  {
   "cell_type": "code",
   "execution_count": 147,
   "metadata": {},
   "outputs": [],
   "source": [
    "#Selecting Data Scientist jobs \n",
    "H1B2['DataScientist'] = np.nan\n",
    "H1B2.DataScientist[H1B2['Job_Position'].str.contains('DATA SCIENTIST')] = 'DATA SCIENTIST'"
   ]
  },
  {
   "cell_type": "code",
   "execution_count": 148,
   "metadata": {},
   "outputs": [
    {
     "data": {
      "text/html": [
       "<div>\n",
       "<style scoped>\n",
       "    .dataframe tbody tr th:only-of-type {\n",
       "        vertical-align: middle;\n",
       "    }\n",
       "\n",
       "    .dataframe tbody tr th {\n",
       "        vertical-align: top;\n",
       "    }\n",
       "\n",
       "    .dataframe thead th {\n",
       "        text-align: right;\n",
       "    }\n",
       "</style>\n",
       "<table border=\"1\" class=\"dataframe\">\n",
       "  <thead>\n",
       "    <tr style=\"text-align: right;\">\n",
       "      <th></th>\n",
       "      <th>index</th>\n",
       "      <th>Year</th>\n",
       "      <th>DataScientist</th>\n",
       "      <th>Applicants</th>\n",
       "    </tr>\n",
       "  </thead>\n",
       "  <tbody>\n",
       "    <tr>\n",
       "      <th>0</th>\n",
       "      <td>0</td>\n",
       "      <td>2011.0</td>\n",
       "      <td>DATA SCIENTIST</td>\n",
       "      <td>17</td>\n",
       "    </tr>\n",
       "    <tr>\n",
       "      <th>1</th>\n",
       "      <td>1</td>\n",
       "      <td>2012.0</td>\n",
       "      <td>DATA SCIENTIST</td>\n",
       "      <td>75</td>\n",
       "    </tr>\n",
       "    <tr>\n",
       "      <th>2</th>\n",
       "      <td>2</td>\n",
       "      <td>2013.0</td>\n",
       "      <td>DATA SCIENTIST</td>\n",
       "      <td>182</td>\n",
       "    </tr>\n",
       "    <tr>\n",
       "      <th>3</th>\n",
       "      <td>3</td>\n",
       "      <td>2014.0</td>\n",
       "      <td>DATA SCIENTIST</td>\n",
       "      <td>444</td>\n",
       "    </tr>\n",
       "    <tr>\n",
       "      <th>4</th>\n",
       "      <td>4</td>\n",
       "      <td>2015.0</td>\n",
       "      <td>DATA SCIENTIST</td>\n",
       "      <td>934</td>\n",
       "    </tr>\n",
       "    <tr>\n",
       "      <th>5</th>\n",
       "      <td>5</td>\n",
       "      <td>2016.0</td>\n",
       "      <td>DATA SCIENTIST</td>\n",
       "      <td>1477</td>\n",
       "    </tr>\n",
       "  </tbody>\n",
       "</table>\n",
       "</div>"
      ],
      "text/plain": [
       "   index    Year   DataScientist  Applicants\n",
       "0      0  2011.0  DATA SCIENTIST          17\n",
       "1      1  2012.0  DATA SCIENTIST          75\n",
       "2      2  2013.0  DATA SCIENTIST         182\n",
       "3      3  2014.0  DATA SCIENTIST         444\n",
       "4      4  2015.0  DATA SCIENTIST         934\n",
       "5      5  2016.0  DATA SCIENTIST        1477"
      ]
     },
     "execution_count": 148,
     "metadata": {},
     "output_type": "execute_result"
    }
   ],
   "source": [
    "#Data Scientist jobs from 2011-2016\n",
    "df56 = H1B2.groupby(['Year','DataScientist']).count().reset_index()\n",
    "df57=df56.drop(['Wage','Employer Name','Soc Name','Job_Position','Full time','Work Site'], axis=1)\n",
    "df57=df57.reset_index()\n",
    "df57"
   ]
  },
  {
   "cell_type": "code",
   "execution_count": 149,
   "metadata": {},
   "outputs": [
    {
     "data": {
      "application/vnd.plotly.v1+json": {
       "config": {
        "linkText": "Export to plot.ly",
        "plotlyServerURL": "https://plot.ly",
        "showLink": false
       },
       "data": [
        {
         "type": "scatter",
         "uid": "6183a7ee-522b-4acc-ae5d-902763fc6378",
         "x": [
          2011,
          2012,
          2013,
          2014,
          2015,
          2016
         ],
         "y": [
          17,
          75,
          182,
          444,
          934,
          1477
         ]
        }
       ],
       "layout": {
        "title": {
         "text": "GROWTH IN JOB POSITION OF DATA SCIENTISTS"
        },
        "xaxis": {
         "title": {
          "text": "Years"
         }
        },
        "yaxis": {
         "title": {
          "text": "Number of applications"
         }
        }
       }
      },
      "text/html": [
       "<div id=\"bdabe4a3-b789-4507-976b-adeba96d6efe\" style=\"height: 525px; width: 100%;\" class=\"plotly-graph-div\"></div><script type=\"text/javascript\">require([\"plotly\"], function(Plotly) { window.PLOTLYENV=window.PLOTLYENV || {};window.PLOTLYENV.BASE_URL=\"https://plot.ly\";\n",
       "if (document.getElementById(\"bdabe4a3-b789-4507-976b-adeba96d6efe\")) {\n",
       "    Plotly.newPlot(\"bdabe4a3-b789-4507-976b-adeba96d6efe\", [{\"x\": [2011.0, 2012.0, 2013.0, 2014.0, 2015.0, 2016.0], \"y\": [17, 75, 182, 444, 934, 1477], \"type\": \"scatter\", \"uid\": \"6183a7ee-522b-4acc-ae5d-902763fc6378\"}], {\"title\": {\"text\": \"GROWTH IN JOB POSITION OF DATA SCIENTISTS\"}, \"xaxis\": {\"title\": {\"text\": \"Years\"}}, \"yaxis\": {\"title\": {\"text\": \"Number of applications\"}}}, {\"showLink\": false, \"linkText\": \"Export to plot.ly\", \"plotlyServerURL\": \"https://plot.ly\"}); \n",
       "}\n",
       "});</script><script type=\"text/javascript\">window.addEventListener(\"resize\", function(){if (document.getElementById(\"bdabe4a3-b789-4507-976b-adeba96d6efe\")) {window._Plotly.Plots.resize(document.getElementById(\"bdabe4a3-b789-4507-976b-adeba96d6efe\"));};})</script>"
      ],
      "text/vnd.plotly.v1+html": [
       "<div id=\"bdabe4a3-b789-4507-976b-adeba96d6efe\" style=\"height: 525px; width: 100%;\" class=\"plotly-graph-div\"></div><script type=\"text/javascript\">require([\"plotly\"], function(Plotly) { window.PLOTLYENV=window.PLOTLYENV || {};window.PLOTLYENV.BASE_URL=\"https://plot.ly\";\n",
       "if (document.getElementById(\"bdabe4a3-b789-4507-976b-adeba96d6efe\")) {\n",
       "    Plotly.newPlot(\"bdabe4a3-b789-4507-976b-adeba96d6efe\", [{\"x\": [2011.0, 2012.0, 2013.0, 2014.0, 2015.0, 2016.0], \"y\": [17, 75, 182, 444, 934, 1477], \"type\": \"scatter\", \"uid\": \"6183a7ee-522b-4acc-ae5d-902763fc6378\"}], {\"title\": {\"text\": \"GROWTH IN JOB POSITION OF DATA SCIENTISTS\"}, \"xaxis\": {\"title\": {\"text\": \"Years\"}}, \"yaxis\": {\"title\": {\"text\": \"Number of applications\"}}}, {\"showLink\": false, \"linkText\": \"Export to plot.ly\", \"plotlyServerURL\": \"https://plot.ly\"}); \n",
       "}\n",
       "});</script><script type=\"text/javascript\">window.addEventListener(\"resize\", function(){if (document.getElementById(\"bdabe4a3-b789-4507-976b-adeba96d6efe\")) {window._Plotly.Plots.resize(document.getElementById(\"bdabe4a3-b789-4507-976b-adeba96d6efe\"));};})</script>"
      ]
     },
     "metadata": {},
     "output_type": "display_data"
    }
   ],
   "source": [
    "#Using plotly to plot the Growth in the position of data scientists over the years 2011-2016\n",
    "Plot = []\n",
    "\n",
    "Plot.append(go.Scatter(x = df57.Year,y= df57.Applicants))\n",
    "\n",
    "layout = go.Layout(dict(title= \"GROWTH IN JOB POSITION OF DATA SCIENTISTS\",xaxis=dict(title=\"Years\"),\n",
    "                        yaxis=dict(title=\"Number of applications\")))\n",
    "Lineplot = go.Figure(Plot,layout)    \n",
    "iplot(Lineplot)    "
   ]
  },
  {
   "cell_type": "code",
   "execution_count": null,
   "metadata": {
    "collapsed": true
   },
   "outputs": [],
   "source": []
  }
 ],
 "metadata": {
  "kernelspec": {
   "display_name": "Python 3",
   "language": "python",
   "name": "python3"
  },
  "language_info": {
   "codemirror_mode": {
    "name": "ipython",
    "version": 3
   },
   "file_extension": ".py",
   "mimetype": "text/x-python",
   "name": "python",
   "nbconvert_exporter": "python",
   "pygments_lexer": "ipython3",
   "version": "3.7.1"
  }
 },
 "nbformat": 4,
 "nbformat_minor": 2
}
